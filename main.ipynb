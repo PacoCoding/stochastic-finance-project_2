{
  "cells": [
    {
      "cell_type": "markdown",
      "metadata": {
        "colab_type": "text",
        "id": "view-in-github"
      },
      "source": [
        "<a href=\"https://colab.research.google.com/github/francescomazzolin/stochastic-finance-project/blob/main/main.ipynb\" target=\"_parent\"><img src=\"https://colab.research.google.com/assets/colab-badge.svg\" alt=\"Open In Colab\"/></a>"
      ]
    },
    {
      "cell_type": "markdown",
      "metadata": {
        "id": "v9ZeALOfxdXN"
      },
      "source": [
        "#Stochastic Finance Project\n",
        "\n",
        "Giada Martini\n",
        "\n",
        "Francesco Mazzolin\n",
        "\n",
        "Francesco Salvagnin\n",
        "\n",
        "Nicolas Stecca\n"
      ]
    },
    {
      "cell_type": "markdown",
      "metadata": {},
      "source": [
        "## Importing the packages\n"
      ]
    },
    {
      "cell_type": "code",
      "execution_count": 1,
      "metadata": {
        "id": "FriuL1WCxcHP"
      },
      "outputs": [],
      "source": [
        "\n",
        "#!pip install eikon\n",
        "\n",
        "import eikon as ek\n",
        "import pandas as pd\n",
        "import numpy as np\n",
        "from scipy.stats import norm\n",
        "\n"
      ]
    },
    {
      "cell_type": "markdown",
      "metadata": {},
      "source": [
        "## Retrieving the data"
      ]
    },
    {
      "cell_type": "code",
      "execution_count": 2,
      "metadata": {},
      "outputs": [
        {
          "name": "stderr",
          "output_type": "stream",
          "text": [
            "c:\\Users\\paolo\\anaconda3\\Lib\\site-packages\\eikon\\data_grid.py:255: FutureWarning: errors='ignore' is deprecated and will raise in a future version. Use to_numeric without passing `errors` and catch exceptions explicitly instead\n",
            "  df = df.apply(pd.to_numeric, errors='ignore')\n",
            "c:\\Users\\paolo\\anaconda3\\Lib\\site-packages\\eikon\\data_grid.py:255: FutureWarning: errors='ignore' is deprecated and will raise in a future version. Use to_numeric without passing `errors` and catch exceptions explicitly instead\n",
            "  df = df.apply(pd.to_numeric, errors='ignore')\n"
          ]
        }
      ],
      "source": [
        "# Setting up the API key\n",
        "ek.set_app_key('6e2b6a629eb84c0b859dc5faf22d48f94d85de97')\n",
        "\n",
        "\n",
        "\n"
      ]
    },
    {
      "cell_type": "code",
      "execution_count": null,
      "metadata": {},
      "outputs": [],
      "source": [
        "\n",
        "def get_financial_data(rics):\n",
        "    rics = rics\n",
        "    #Data fields we are interested in: \n",
        "      #Total value of equity\n",
        "      #Total value of debt\n",
        "    fields = ['TR.F.ComEqTot', 'TR.F.DebtTot']\n",
        "    results = []\n",
        "\n",
        "    for ric in rics:\n",
        "        data, err = ek.get_data(instruments=[ric], fields=fields)\n",
        "        if err is None:\n",
        "            data['RIC'] = ric\n",
        "            results.append(data)\n",
        "        else:\n",
        "            print(f\"Error retrieving data for {ric}: {err}\")\n",
        "\n",
        "    #Combine results into a single DataFrame\n",
        "    df = pd.concat(results, ignore_index=True)\n",
        "    df.drop(columns=['RIC'])\n",
        "\n",
        "    #Add Total asset value column\n",
        "    df['Total_value'] = df['Common Equity - Total'] + df['Debt - Total']\n",
        "\n",
        "    return df\n"
      ]
    },
    {
      "cell_type": "markdown",
      "metadata": {},
      "source": [
        "#### Choosing the stocks"
      ]
    },
    {
      "cell_type": "code",
      "execution_count": null,
      "metadata": {},
      "outputs": [],
      "source": [
        "rics_list = ['AAPL.O','FB.O']\n",
        "\n"
      ]
    },
    {
      "cell_type": "markdown",
      "metadata": {},
      "source": [
        "#### Retrieving the data"
      ]
    },
    {
      "cell_type": "code",
      "execution_count": null,
      "metadata": {},
      "outputs": [],
      "source": [
        "data = get_financial_data(rics_list)"
      ]
    },
    {
      "cell_type": "code",
      "execution_count": 4,
      "metadata": {},
      "outputs": [
        {
          "name": "stdout",
          "output_type": "stream",
          "text": [
            "  Instrument  Common Equity - Total  Debt - Total     RIC   Total_value\n",
            "0     AAPL.O            56950000000  107525000000  AAPL.O  164475000000\n",
            "1       FB.O           153168000000   19075000000    FB.O  172243000000\n"
          ]
        }
      ],
      "source": [
        "print(data.head())"
      ]
    }
  ],
  "metadata": {
    "colab": {
      "authorship_tag": "ABX9TyML4EGjqSwJLboWOStafFQq",
      "include_colab_link": true,
      "provenance": []
    },
    "kernelspec": {
      "display_name": "base",
      "language": "python",
      "name": "python3"
    },
    "language_info": {
      "codemirror_mode": {
        "name": "ipython",
        "version": 3
      },
      "file_extension": ".py",
      "mimetype": "text/x-python",
      "name": "python",
      "nbconvert_exporter": "python",
      "pygments_lexer": "ipython3",
      "version": "3.11.7"
    }
  },
  "nbformat": 4,
  "nbformat_minor": 0
}
