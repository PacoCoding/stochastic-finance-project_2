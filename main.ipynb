{
  "cells": [
    {
      "cell_type": "markdown",
      "metadata": {
        "colab_type": "text",
        "id": "view-in-github"
      },
      "source": [
        "<a href=\"https://colab.research.google.com/github/francescomazzolin/stochastic-finance-project/blob/main/main.ipynb\" target=\"_parent\"><img src=\"https://colab.research.google.com/assets/colab-badge.svg\" alt=\"Open In Colab\"/></a>"
      ]
    },
    {
      "cell_type": "markdown",
      "metadata": {
        "id": "v9ZeALOfxdXN"
      },
      "source": [
        "# Stochastic Finance Project\n",
        "\n",
        "Giada Martini\n",
        "\n",
        "Francesco Mazzolin\n",
        "\n",
        "Francesco Salvagnin\n",
        "\n",
        "Nicolas Stecca\n"
      ]
    },
    {
      "cell_type": "markdown",
      "metadata": {},
      "source": [
        "## Importing the packages\n"
      ]
    },
    {
      "cell_type": "code",
      "execution_count": 105,
      "metadata": {
        "id": "FriuL1WCxcHP"
      },
      "outputs": [
        {
          "data": {
            "text/plain": [
              "<module 'analytical_functions' from 'c:\\\\Users\\\\paolo\\\\OneDrive\\\\Desktop\\\\SF_Project\\\\stochastic-finance-project\\\\analytical_functions.py'>"
            ]
          },
          "execution_count": 105,
          "metadata": {},
          "output_type": "execute_result"
        }
      ],
      "source": [
        "\n",
        "#!pip install eikon\n",
        "\n",
        "import eikon as ek\n",
        "import pandas as pd\n",
        "import numpy as np\n",
        "from scipy.stats import norm\n",
        "from scipy.optimize import fsolve\n",
        "import importlib\n",
        "import matplotlib.pyplot as plt\n",
        "\n",
        "import plotting_functions as mp\n",
        "import analytical_functions as af\n",
        "\n",
        "importlib.reload(af)\n"
      ]
    },
    {
      "cell_type": "markdown",
      "metadata": {},
      "source": [
        "## Retrieving the data"
      ]
    },
    {
      "cell_type": "code",
      "execution_count": 106,
      "metadata": {},
      "outputs": [],
      "source": [
        "# Setting up the API key\n",
        "ek.set_app_key('6e2b6a629eb84c0b859dc5faf22d48f94d85de97')"
      ]
    },
    {
      "cell_type": "markdown",
      "metadata": {},
      "source": [
        "#### Search parameters\n"
      ]
    },
    {
      "cell_type": "code",
      "execution_count": 121,
      "metadata": {},
      "outputs": [],
      "source": [
        "\n",
        "fields = ['TR.CLOSEPRICE.date',\n",
        "            'TR.CLOSEPRICE', \n",
        "            'TR.F.ShrUsedToCalcDilEPSTot','TR.F.MktCap', 'TR.F.DebtTot',\n",
        "            'TR.CommonName', 'TR.NAICSSector']\n",
        "\n",
        "start_date = '2024-12-30'\n",
        "\n",
        "end_date = '2018-12-30'\n",
        "\n",
        "rolling_window = 252"
      ]
    },
    {
      "cell_type": "markdown",
      "metadata": {},
      "source": [
        "### Getting different groups of stocks based on their leverage ratio\n",
        "\n",
        "We will use, at this stage, as a proxy of the value of the assets the sum of the market capitalization of a given firmi and the firm's total debt"
      ]
    },
    {
      "cell_type": "code",
      "execution_count": 124,
      "metadata": {},
      "outputs": [
        {
          "name": "stdout",
          "output_type": "stream",
          "text": [
            "Removed 68 companies\n"
          ]
        },
        {
          "name": "stderr",
          "output_type": "stream",
          "text": [
            "c:\\Users\\paolo\\anaconda3\\envs\\grad\\Lib\\site-packages\\eikon\\data_grid.py:255: FutureWarning: errors='ignore' is deprecated and will raise in a future version. Use to_numeric without passing `errors` and catch exceptions explicitly instead\n",
            "  df = df.apply(pd.to_numeric, errors='ignore')\n",
            "c:\\Users\\paolo\\anaconda3\\envs\\grad\\Lib\\site-packages\\pandas\\core\\dtypes\\cast.py:1057: RuntimeWarning: invalid value encountered in cast\n",
            "  if (arr.astype(int) == arr).all():\n",
            "c:\\Users\\paolo\\anaconda3\\envs\\grad\\Lib\\site-packages\\pandas\\core\\dtypes\\cast.py:1081: RuntimeWarning: invalid value encountered in cast\n",
            "  if (arr.astype(int) == arr).all():\n"
          ]
        }
      ],
      "source": [
        "#This will get all the stocks in the S&P 500 data for the specified fields\n",
        "data, err = ek.get_data(instruments=['0#.SPX'], fields = fields)\n",
        "data.head()\n",
        "number = data.shape[0]\n",
        "\n",
        "#Excluding financial sector\n",
        "data = data[data['NAICS Sector Name'] != 'Finance and Insurance']\n",
        "post_number = data.shape[0]\n",
        "\n",
        "print(f'Removed {number - post_number} companies')"
      ]
    },
    {
      "cell_type": "code",
      "execution_count": 125,
      "metadata": {},
      "outputs": [
        {
          "name": "stdout",
          "output_type": "stream",
          "text": [
            "    Instrument                  Date  Close Price  \\\n",
            "162        F.N  2025-01-03T00:00:00Z         9.88   \n",
            "346     CZR.OQ  2025-01-03T00:00:00Z        32.51   \n",
            "283      AES.N  2025-01-03T00:00:00Z        13.23   \n",
            "341    PARA.OQ  2025-01-03T00:00:00Z        10.67   \n",
            "58        CE.N  2025-01-03T00:00:00Z        66.13   \n",
            "\n",
            "     Shares used to calculate Diluted EPS - Total  Market Capitalization  \\\n",
            "162                                  4041000000.0     48096718461.658302   \n",
            "346                                   216000000.0         10092789246.24   \n",
            "283                                   712000000.0         12890358923.75   \n",
            "341                                   652000000.0          9828030434.42   \n",
            "58                                    109379664.0     16912370353.620001   \n",
            "\n",
            "       Debt - Total        Company Common Name  \\\n",
            "162  149231000000.0              Ford Motor Co   \n",
            "346   25048000000.0  Caesars Entertainment Inc   \n",
            "283   26878000000.0                   AES Corp   \n",
            "341   14602000000.0           Paramount Global   \n",
            "58    13684000000.0              Celanese Corp   \n",
            "\n",
            "                   NAICS Sector Name   Equity Value     Asset Value  \\\n",
            "162                    Manufacturing  39925080000.0  189156080000.0   \n",
            "346  Accommodation and Food Services   7022160000.0   32070160000.0   \n",
            "283                        Utilities   9419760000.0   36297760000.0   \n",
            "341                      Information   6956840000.0   21558840000.0   \n",
            "58                     Manufacturing  7233277180.32  20917277180.32   \n",
            "\n",
            "     Leverage Ratio  \n",
            "162         0.78893  \n",
            "346        0.781038  \n",
            "283        0.740486  \n",
            "341        0.677309  \n",
            "58         0.654196  \n"
          ]
        }
      ],
      "source": [
        "data['Equity Value'] = data['Close Price'] * data['Shares used to calculate Diluted EPS - Total']\n",
        "\n",
        "data['Asset Value'] = data['Equity Value'] + data['Debt - Total']\n",
        "\n",
        "data['Leverage Ratio'] = data['Debt - Total'] / data['Asset Value']\n",
        "\n",
        "data = data.sort_values(by = 'Leverage Ratio', ascending= False)\n",
        "\n",
        "print(data.head())"
      ]
    },
    {
      "cell_type": "code",
      "execution_count": 126,
      "metadata": {},
      "outputs": [
        {
          "name": "stdout",
          "output_type": "stream",
          "text": [
            "           Company Common Name  Leverage Ratio\n",
            "162              Ford Motor Co         0.78893\n",
            "346  Caesars Entertainment Inc        0.781038\n",
            "283                   AES Corp        0.740486\n",
            "341           Paramount Global        0.677309\n",
            "58               Celanese Corp        0.654196\n",
            "..                         ...             ...\n",
            "382                   LKQ Corp        0.302173\n",
            "277        Dollar General Corp         0.29886\n",
            "383            Bunge Global SA        0.295254\n",
            "363                    UDR Inc        0.290276\n",
            "111  Occidental Petroleum Corp        0.289104\n",
            "\n",
            "[100 rows x 2 columns]\n"
          ]
        }
      ],
      "source": [
        "print(data[['Company Common Name', 'Leverage Ratio']].head(100))"
      ]
    },
    {
      "cell_type": "code",
      "execution_count": 57,
      "metadata": {},
      "outputs": [],
      "source": [
        "#Setting up the function\n",
        "def get_financial_data(rics, fields, \n",
        "                       start_date, end_date,\n",
        "                       rolling_window):\n",
        "    #rics = rics\n",
        "    #Data fields we are interested in: \n",
        "      #Total value of equity\n",
        "      #Total value of debt\n",
        "\n",
        "    results = []\n",
        "\n",
        "    df = pd.DataFrame()\n",
        "\n",
        "    for ric in rics:\n",
        "        data, err = ek.get_data([ric], fields,\n",
        "                                {'SDate': f'{start_date}' , 'EDate': f'{end_date}', 'FRQ':'D','period':'FY0'}) #Not sure about period\n",
        "        if err is None:\n",
        "            data['RIC'] = ric\n",
        "            results.append(data)\n",
        "        else:\n",
        "            print(f\"Error retrieving data for {ric}: {err}\")\n",
        "        \n",
        "        data['Date'] = pd.to_datetime(data['Date'])\n",
        "        data = data.sort_values(by='Date').reset_index(drop=True)\n",
        "\n",
        "        data['Equity_Value'] = data['Close Price'] * data['Shares used to calculate Diluted EPS - Total']\n",
        "\n",
        "        \n",
        "        #Computing the log-returns\n",
        "        prices = data['Close Price']\n",
        "        log_returns = np.log(prices / prices.shift(1)).dropna()\n",
        "        data['Log_Returns'] = log_returns\n",
        "        data.dropna()\n",
        "\n",
        "        #Compute the rolling-window estimation of the volatility using last year observations\n",
        "        data['Rolling_Volatility'] = (data['Log_Returns'].rolling(window=rolling_window).std() * np.sqrt(rolling_window) )\n",
        "        #data['Rolling_Volatility'] = data['Log_Returns'].std() * np.sqrt(252)\n",
        "        data = data.dropna(subset=['Rolling_Volatility'])\n",
        "        data = data.dropna(how = 'any')\n",
        "        \n",
        "\n",
        "\n",
        "        #Computing total asset values as a sum of the market capitalization + total debt\n",
        "        #data['Total_value'] = data['Market Capitalization'] + data['Debt - Total']\n",
        "        data['Total_value'] = (data['Close Price'] * data['Shares used to calculate Diluted EPS - Total']) + data['Debt - Total']\n",
        "        \n",
        "        \n",
        "        data = data.set_index(['Instrument', 'Date'])\n",
        "\n",
        "    #Combine results into a single DataFrame\n",
        "        df = pd.concat([df, data])\n",
        "    #df.drop(columns=['RIC'])\n",
        "\n",
        "    #Add Total asset value column\n",
        "    \n",
        "\n",
        "    return df\n"
      ]
    },
    {
      "cell_type": "markdown",
      "metadata": {},
      "source": [
        "#### Choosing the stocks"
      ]
    },
    {
      "cell_type": "code",
      "execution_count": 58,
      "metadata": {},
      "outputs": [],
      "source": [
        "rics_list = ['AAPL.O', 'META.O', 'BRBI.MI']"
      ]
    },
    {
      "cell_type": "markdown",
      "metadata": {},
      "source": [
        "#### Retrieving the data"
      ]
    },
    {
      "cell_type": "code",
      "execution_count": 59,
      "metadata": {},
      "outputs": [
        {
          "name": "stderr",
          "output_type": "stream",
          "text": [
            "c:\\Users\\paolo\\anaconda3\\envs\\grad\\Lib\\site-packages\\eikon\\data_grid.py:255: FutureWarning: errors='ignore' is deprecated and will raise in a future version. Use to_numeric without passing `errors` and catch exceptions explicitly instead\n",
            "  df = df.apply(pd.to_numeric, errors='ignore')\n",
            "c:\\Users\\paolo\\anaconda3\\envs\\grad\\Lib\\site-packages\\eikon\\data_grid.py:255: FutureWarning: errors='ignore' is deprecated and will raise in a future version. Use to_numeric without passing `errors` and catch exceptions explicitly instead\n",
            "  df = df.apply(pd.to_numeric, errors='ignore')\n",
            "c:\\Users\\paolo\\anaconda3\\envs\\grad\\Lib\\site-packages\\pandas\\core\\dtypes\\cast.py:1057: RuntimeWarning: invalid value encountered in cast\n",
            "  if (arr.astype(int) == arr).all():\n",
            "c:\\Users\\paolo\\anaconda3\\envs\\grad\\Lib\\site-packages\\pandas\\core\\dtypes\\cast.py:1081: RuntimeWarning: invalid value encountered in cast\n",
            "  if (arr.astype(int) == arr).all():\n"
          ]
        },
        {
          "name": "stdout",
          "output_type": "stream",
          "text": [
            "                                      Close Price  \\\n",
            "Instrument Date                                     \n",
            "AAPL.O     2019-12-31 00:00:00+00:00      73.4125   \n",
            "           2020-01-02 00:00:00+00:00      75.0875   \n",
            "           2020-01-03 00:00:00+00:00      74.3575   \n",
            "           2020-01-06 00:00:00+00:00        74.95   \n",
            "           2020-01-07 00:00:00+00:00      74.5975   \n",
            "\n",
            "                                      Shares used to calculate Diluted EPS - Total  \\\n",
            "Instrument Date                                                                      \n",
            "AAPL.O     2019-12-31 00:00:00+00:00                                   18595652000   \n",
            "           2020-01-02 00:00:00+00:00                                   18595652000   \n",
            "           2020-01-03 00:00:00+00:00                                   18595652000   \n",
            "           2020-01-06 00:00:00+00:00                                   18595652000   \n",
            "           2020-01-07 00:00:00+00:00                                   18595652000   \n",
            "\n",
            "                                      Market Capitalization    Debt - Total  \\\n",
            "Instrument Date                                                               \n",
            "AAPL.O     2019-12-31 00:00:00+00:00         988886967600.0  108047000000.0   \n",
            "           2020-01-02 00:00:00+00:00         988886967600.0  108047000000.0   \n",
            "           2020-01-03 00:00:00+00:00         988886967600.0  108047000000.0   \n",
            "           2020-01-06 00:00:00+00:00         988886967600.0  108047000000.0   \n",
            "           2020-01-07 00:00:00+00:00         988886967600.0  108047000000.0   \n",
            "\n",
            "                                         RIC     Equity_Value  Log_Returns  \\\n",
            "Instrument Date                                                              \n",
            "AAPL.O     2019-12-31 00:00:00+00:00  AAPL.O  1365153302450.0      0.00728   \n",
            "           2020-01-02 00:00:00+00:00  AAPL.O  1396301019550.0      0.02256   \n",
            "           2020-01-03 00:00:00+00:00  AAPL.O  1382726193590.0     -0.00977   \n",
            "           2020-01-06 00:00:00+00:00  AAPL.O  1393744117400.0     0.007937   \n",
            "           2020-01-07 00:00:00+00:00  AAPL.O  1387189150070.0    -0.004714   \n",
            "\n",
            "                                      Rolling_Volatility      Total_value  \n",
            "Instrument Date                                                            \n",
            "AAPL.O     2019-12-31 00:00:00+00:00            0.263392  1473200302450.0  \n",
            "           2020-01-02 00:00:00+00:00            0.264154  1504348019550.0  \n",
            "           2020-01-03 00:00:00+00:00            0.241447  1490773193590.0  \n",
            "           2020-01-06 00:00:00+00:00            0.238327  1501791117400.0  \n",
            "           2020-01-07 00:00:00+00:00            0.238393  1495236150070.0  \n",
            "----------------------------------------------------------------------------------------------------\n",
            "                                      Close Price  \\\n",
            "Instrument Date                                     \n",
            "BRBI.MI    2024-12-19 00:00:00+00:00        8.957   \n",
            "           2024-12-20 00:00:00+00:00         8.99   \n",
            "           2024-12-23 00:00:00+00:00        8.984   \n",
            "           2024-12-27 00:00:00+00:00        9.126   \n",
            "           2024-12-30 00:00:00+00:00        9.093   \n",
            "\n",
            "                                      Shares used to calculate Diluted EPS - Total  \\\n",
            "Instrument Date                                                                      \n",
            "BRBI.MI    2024-12-19 00:00:00+00:00                                     323640100   \n",
            "           2024-12-20 00:00:00+00:00                                     323640100   \n",
            "           2024-12-23 00:00:00+00:00                                     323640100   \n",
            "           2024-12-27 00:00:00+00:00                                     323640100   \n",
            "           2024-12-30 00:00:00+00:00                                     323640100   \n",
            "\n",
            "                                      Market Capitalization  Debt - Total  \\\n",
            "Instrument Date                                                             \n",
            "BRBI.MI    2024-12-19 00:00:00+00:00           3706536975.0   931124000.0   \n",
            "           2024-12-20 00:00:00+00:00           3706536975.0   931124000.0   \n",
            "           2024-12-23 00:00:00+00:00           3706536975.0   931124000.0   \n",
            "           2024-12-27 00:00:00+00:00           3706536975.0   931124000.0   \n",
            "           2024-12-30 00:00:00+00:00           3706536975.0   931124000.0   \n",
            "\n",
            "                                          RIC  Equity_Value  Log_Returns  \\\n",
            "Instrument Date                                                            \n",
            "BRBI.MI    2024-12-19 00:00:00+00:00  BRBI.MI  2898844375.7    -0.016828   \n",
            "           2024-12-20 00:00:00+00:00  BRBI.MI  2909524499.0     0.003677   \n",
            "           2024-12-23 00:00:00+00:00  BRBI.MI  2907582658.4    -0.000668   \n",
            "           2024-12-27 00:00:00+00:00  BRBI.MI  2953539552.6     0.015682   \n",
            "           2024-12-30 00:00:00+00:00  BRBI.MI  2942859429.3    -0.003623   \n",
            "\n",
            "                                      Rolling_Volatility   Total_value  \n",
            "Instrument Date                                                         \n",
            "BRBI.MI    2024-12-19 00:00:00+00:00            0.245158  3829968375.7  \n",
            "           2024-12-20 00:00:00+00:00            0.245199  3840648499.0  \n",
            "           2024-12-23 00:00:00+00:00            0.244963  3838706658.4  \n",
            "           2024-12-27 00:00:00+00:00            0.245513  3884663552.6  \n",
            "           2024-12-30 00:00:00+00:00            0.245485  3873983429.3  \n",
            "----------------------------------------------------------------------------------------------------\n",
            "                           Close Price  \\\n",
            "Date                                     \n",
            "2019-12-31 00:00:00+00:00      73.4125   \n",
            "2020-01-02 00:00:00+00:00      75.0875   \n",
            "2020-01-03 00:00:00+00:00      74.3575   \n",
            "2020-01-06 00:00:00+00:00        74.95   \n",
            "2020-01-07 00:00:00+00:00      74.5975   \n",
            "\n",
            "                           Shares used to calculate Diluted EPS - Total  \\\n",
            "Date                                                                      \n",
            "2019-12-31 00:00:00+00:00                                   18595652000   \n",
            "2020-01-02 00:00:00+00:00                                   18595652000   \n",
            "2020-01-03 00:00:00+00:00                                   18595652000   \n",
            "2020-01-06 00:00:00+00:00                                   18595652000   \n",
            "2020-01-07 00:00:00+00:00                                   18595652000   \n",
            "\n",
            "                           Market Capitalization    Debt - Total     RIC  \\\n",
            "Date                                                                       \n",
            "2019-12-31 00:00:00+00:00         988886967600.0  108047000000.0  AAPL.O   \n",
            "2020-01-02 00:00:00+00:00         988886967600.0  108047000000.0  AAPL.O   \n",
            "2020-01-03 00:00:00+00:00         988886967600.0  108047000000.0  AAPL.O   \n",
            "2020-01-06 00:00:00+00:00         988886967600.0  108047000000.0  AAPL.O   \n",
            "2020-01-07 00:00:00+00:00         988886967600.0  108047000000.0  AAPL.O   \n",
            "\n",
            "                              Equity_Value  Log_Returns  Rolling_Volatility  \\\n",
            "Date                                                                          \n",
            "2019-12-31 00:00:00+00:00  1365153302450.0      0.00728            0.263392   \n",
            "2020-01-02 00:00:00+00:00  1396301019550.0      0.02256            0.264154   \n",
            "2020-01-03 00:00:00+00:00  1382726193590.0     -0.00977            0.241447   \n",
            "2020-01-06 00:00:00+00:00  1393744117400.0     0.007937            0.238327   \n",
            "2020-01-07 00:00:00+00:00  1387189150070.0    -0.004714            0.238393   \n",
            "\n",
            "                               Total_value  \n",
            "Date                                        \n",
            "2019-12-31 00:00:00+00:00  1473200302450.0  \n",
            "2020-01-02 00:00:00+00:00  1504348019550.0  \n",
            "2020-01-03 00:00:00+00:00  1490773193590.0  \n",
            "2020-01-06 00:00:00+00:00  1501791117400.0  \n",
            "2020-01-07 00:00:00+00:00  1495236150070.0  \n",
            "-\n",
            "       Close Price  Shares used to calculate Diluted EPS - Total  \\\n",
            "count       1258.0                                        1258.0   \n",
            "mean    301.120862                             2795876788.553259   \n",
            "std     124.791399                              104409770.047277   \n",
            "min          88.91                                  2629000000.0   \n",
            "25%       209.5925                                  2702000000.0   \n",
            "50%        280.825                                  2859000000.0   \n",
            "75%        346.275                                  2876000000.0   \n",
            "max         632.68                                  2921000000.0   \n",
            "\n",
            "       Market Capitalization       Debt - Total          Equity_Value  \\\n",
            "count                 1258.0             1258.0                1258.0   \n",
            "mean      696629297912.21936  5921100158.982512   833122437253.577148   \n",
            "std      232457747031.115479  7357691236.093029   319001359351.450134   \n",
            "min      315555188424.080017                0.0        254193690000.0   \n",
            "25%          585320975487.75        523000000.0        589982640000.0   \n",
            "50%      778039626010.359985        581000000.0        793617820000.0   \n",
            "75%      909628612618.719971      10610000000.0        989645400000.0   \n",
            "max      935644813206.599976      19075000000.0  1663315719999.999756   \n",
            "\n",
            "       Log_Returns  Rolling_Volatility           Total_value  \n",
            "count       1258.0         1258.000000                1258.0  \n",
            "mean      0.000844            0.435858    839043537412.55957  \n",
            "std       0.028596            0.110142   324285780110.595276  \n",
            "min      -0.306391            0.254210        254774690000.0  \n",
            "25%      -0.011683            0.354419        594188022500.0  \n",
            "50%       0.001067            0.405224        795625770000.0  \n",
            "75%       0.014418            0.527885        990168400000.0  \n",
            "max       0.209307            0.705082  1682390719999.999756  \n"
          ]
        },
        {
          "name": "stderr",
          "output_type": "stream",
          "text": [
            "c:\\Users\\paolo\\anaconda3\\envs\\grad\\Lib\\site-packages\\eikon\\data_grid.py:255: FutureWarning: errors='ignore' is deprecated and will raise in a future version. Use to_numeric without passing `errors` and catch exceptions explicitly instead\n",
            "  df = df.apply(pd.to_numeric, errors='ignore')\n",
            "c:\\Users\\paolo\\anaconda3\\envs\\grad\\Lib\\site-packages\\pandas\\core\\dtypes\\cast.py:1057: RuntimeWarning: invalid value encountered in cast\n",
            "  if (arr.astype(int) == arr).all():\n",
            "c:\\Users\\paolo\\anaconda3\\envs\\grad\\Lib\\site-packages\\pandas\\core\\dtypes\\cast.py:1081: RuntimeWarning: invalid value encountered in cast\n",
            "  if (arr.astype(int) == arr).all():\n"
          ]
        }
      ],
      "source": [
        "data = get_financial_data(rics_list, fields,\n",
        "                          start_date, end_date,\n",
        "                          252)\n",
        "\n",
        "print(data.head())\n",
        "\n",
        "print('-'*100)\n",
        "\n",
        "print(data.tail())\n",
        "\n",
        "print('-'*100)\n",
        "#Checks on single stocks\n",
        "print(data.loc['AAPL.O'].head())\n",
        "\n",
        "print('-')\n",
        "print(data.loc[rics_list[1]].describe())"
      ]
    },
    {
      "cell_type": "code",
      "execution_count": 60,
      "metadata": {},
      "outputs": [],
      "source": [
        "# import pickle\n",
        "# import sys\n",
        "# import os\n",
        "\n",
        "# current_directory = os.getcwd()\n",
        "\n",
        "# # Add the current working directory to sys.path\n",
        "# if current_directory not in sys.path:\n",
        "#     sys.path.append(current_directory)\n",
        "#     print('Yes')\n",
        "\n",
        "\n",
        "# with open('dataframe.pkl', mode= 'rb') as f:\n",
        "\n",
        "#     data = pickle.load(f)"
      ]
    },
    {
      "cell_type": "code",
      "execution_count": 61,
      "metadata": {},
      "outputs": [
        {
          "data": {
            "image/png": "[encoded data removed]",
            "text/plain": [
              "<Figure size 640x480 with 1 Axes>"
            ]
          },
          "metadata": {},
          "output_type": "display_data"
        }
      ],
      "source": [
        "#Plot of outstanding shares \n",
        "plt.figure()\n",
        "\n",
        "plt.title('Number of shares through time')\n",
        "\n",
        "plt.plot(data.loc['AAPL.O']['Shares used to calculate Diluted EPS - Total'])\n",
        "\n",
        "plt.show()\n"
      ]
    },
    {
      "cell_type": "markdown",
      "metadata": {},
      "source": [
        "## Computing the value of the asset and its volatility"
      ]
    },
    {
      "cell_type": "code",
      "execution_count": 62,
      "metadata": {},
      "outputs": [],
      "source": [
        "# df_k = pd.DataFrame()\n",
        "\n",
        "# for ric in rics_list:\n",
        "#     df = data.loc[ric]\n",
        "#     df = df.reset_index()\n",
        "#     df['Total_value'] = (df['Close Price'] * df['Shares used to calculate Diluted EPS - Total']) +df['Debt - Total']\n",
        "#     # Compute log returns and rolling volatility\n",
        "#     df['Log_Returns'] = np.log(df['Close Price'] / df['Close Price'].shift(1))\n",
        "#     df['Rolling_Volatility'] = df['Log_Returns'].rolling(window=252).std() \n",
        "#     df = df.dropna(subset=['Rolling_Volatility'])\n",
        "    \n",
        "#     # Compute total asset value (equity + debt)\n",
        "#     #df['Total_value'] = df['Market Capitalization'] + df['Debt - Total']\n",
        "#     df['RIC'] = ric\n",
        "#     df = df.set_index([f'RIC', 'Date'])\n",
        "#     df = df.dropna(how='any')\n",
        "\n",
        "#     # Drop rows with missing data\n",
        "    \n",
        "\n",
        "#     df_k = pd.concat([df, df_k])\n",
        "\n",
        "# data = df_k.copy()"
      ]
    },
    {
      "cell_type": "code",
      "execution_count": null,
      "metadata": {},
      "outputs": [],
      "source": []
    },
    {
      "cell_type": "code",
      "execution_count": 63,
      "metadata": {},
      "outputs": [
        {
          "data": {
            "image/png": "[encoded data removed]",
            "text/plain": [
              "<Figure size 640x480 with 1 Axes>"
            ]
          },
          "metadata": {},
          "output_type": "display_data"
        }
      ],
      "source": [
        "for ric in rics_list:\n",
        "\n",
        "    plt.plot(data.loc[ric]['Rolling_Volatility'])"
      ]
    },
    {
      "cell_type": "code",
      "execution_count": 64,
      "metadata": {},
      "outputs": [],
      "source": [
        "# Solve the system for each row\n",
        "def solve_system(row):\n",
        "    # Extract parameters from the row\n",
        "    E = row['Close Price'] * row['Shares used to calculate Diluted EPS - Total'] # Equity (market capitalization)\n",
        "    sigma_E = row['Rolling_Volatility']  # Rolling volatility as initial guess for sigma_A\n",
        "    D = row['Debt - Total']          # Debt\n",
        "    \n",
        "    row['Risk_Free_Rate'] = 0.04\n",
        "    r = row['Risk_Free_Rate']        # Assume a risk-free rate column\n",
        "    \n",
        "    T = 1                            # Time to maturity (1 year)\n",
        "    t = 0                            # Current time\n",
        "\n",
        "    # Define the system of equations\n",
        "    def system(vars):\n",
        "        if D > 0:\n",
        "            A, sigma_A = vars  # Unknowns: Asset value and asset volatility\n",
        "            equity_value = af.merton_equity(A, D, r, sigma_A, T, t)\n",
        "            d1 = (np.log(A / D) + (r + 0.5 * sigma_A**2) * (T - t)) / (sigma_A * np.sqrt(T - t))\n",
        "            f1 = equity_value - E  # Equation (2)\n",
        "            f2 = (A / E) * norm.cdf(d1) * sigma_A - sigma_E  # Equation (4)\n",
        "\n",
        "        else: \n",
        "\n",
        "            f1 = E \n",
        "            f2 = sigma_E\n",
        "        return [f1, f2]\n",
        "\n",
        "    # Initial guesses\n",
        "    A_guess = row['Total_value']  # Total value (equity + debt)\n",
        "    sigma_A_guess = row['Rolling_Volatility']  # Rolling volatility\n",
        "\n",
        "    # Solve the system\n",
        "    solution = fsolve(system, [A_guess, sigma_A_guess])\n",
        "    return pd.Series({'A_solution': solution[0], 'sigma_A_solution': solution[1]})\n",
        "\n",
        "# Apply the solver to the DataFrame\n",
        "def solve_for_all(df):\n",
        "    results = df.apply(solve_system, axis=1)\n",
        "    return pd.concat([df, results], axis=1)\n"
      ]
    },
    {
      "cell_type": "code",
      "execution_count": 65,
      "metadata": {},
      "outputs": [
        {
          "data": {
            "text/plain": [
              "Close Price                                     0\n",
              "Shares used to calculate Diluted EPS - Total    0\n",
              "Market Capitalization                           0\n",
              "Debt - Total                                    0\n",
              "RIC                                             0\n",
              "Equity_Value                                    0\n",
              "Log_Returns                                     0\n",
              "Rolling_Volatility                              0\n",
              "Total_value                                     0\n",
              "dtype: int64"
            ]
          },
          "execution_count": 65,
          "metadata": {},
          "output_type": "execute_result"
        }
      ],
      "source": [
        "data.isna().sum()"
      ]
    },
    {
      "cell_type": "code",
      "execution_count": 66,
      "metadata": {},
      "outputs": [
        {
          "name": "stderr",
          "output_type": "stream",
          "text": [
            "C:\\Users\\paolo\\AppData\\Local\\Temp\\ipykernel_2184\\422696715.py:34: RuntimeWarning: The iteration is not making good progress, as measured by the \n",
            "  improvement from the last ten iterations.\n",
            "  solution = fsolve(system, [A_guess, sigma_A_guess])\n",
            "C:\\Users\\paolo\\AppData\\Local\\Temp\\ipykernel_2184\\422696715.py:34: RuntimeWarning: The iteration is not making good progress, as measured by the \n",
            "  improvement from the last ten iterations.\n",
            "  solution = fsolve(system, [A_guess, sigma_A_guess])\n",
            "C:\\Users\\paolo\\AppData\\Local\\Temp\\ipykernel_2184\\422696715.py:34: RuntimeWarning: The iteration is not making good progress, as measured by the \n",
            "  improvement from the last ten iterations.\n",
            "  solution = fsolve(system, [A_guess, sigma_A_guess])\n",
            "C:\\Users\\paolo\\AppData\\Local\\Temp\\ipykernel_2184\\422696715.py:34: RuntimeWarning: The iteration is not making good progress, as measured by the \n",
            "  improvement from the last ten iterations.\n",
            "  solution = fsolve(system, [A_guess, sigma_A_guess])\n",
            "C:\\Users\\paolo\\AppData\\Local\\Temp\\ipykernel_2184\\422696715.py:34: RuntimeWarning: The iteration is not making good progress, as measured by the \n",
            "  improvement from the last ten iterations.\n",
            "  solution = fsolve(system, [A_guess, sigma_A_guess])\n",
            "C:\\Users\\paolo\\AppData\\Local\\Temp\\ipykernel_2184\\422696715.py:34: RuntimeWarning: The iteration is not making good progress, as measured by the \n",
            "  improvement from the last ten iterations.\n",
            "  solution = fsolve(system, [A_guess, sigma_A_guess])\n",
            "C:\\Users\\paolo\\AppData\\Local\\Temp\\ipykernel_2184\\422696715.py:34: RuntimeWarning: The iteration is not making good progress, as measured by the \n",
            "  improvement from the last ten iterations.\n",
            "  solution = fsolve(system, [A_guess, sigma_A_guess])\n",
            "C:\\Users\\paolo\\AppData\\Local\\Temp\\ipykernel_2184\\422696715.py:34: RuntimeWarning: The iteration is not making good progress, as measured by the \n",
            "  improvement from the last ten iterations.\n",
            "  solution = fsolve(system, [A_guess, sigma_A_guess])\n",
            "C:\\Users\\paolo\\AppData\\Local\\Temp\\ipykernel_2184\\422696715.py:34: RuntimeWarning: The iteration is not making good progress, as measured by the \n",
            "  improvement from the last ten iterations.\n",
            "  solution = fsolve(system, [A_guess, sigma_A_guess])\n",
            "C:\\Users\\paolo\\AppData\\Local\\Temp\\ipykernel_2184\\422696715.py:34: RuntimeWarning: The iteration is not making good progress, as measured by the \n",
            "  improvement from the last ten iterations.\n",
            "  solution = fsolve(system, [A_guess, sigma_A_guess])\n",
            "C:\\Users\\paolo\\AppData\\Local\\Temp\\ipykernel_2184\\422696715.py:34: RuntimeWarning: The iteration is not making good progress, as measured by the \n",
            "  improvement from the last ten iterations.\n",
            "  solution = fsolve(system, [A_guess, sigma_A_guess])\n",
            "C:\\Users\\paolo\\AppData\\Local\\Temp\\ipykernel_2184\\422696715.py:34: RuntimeWarning: The iteration is not making good progress, as measured by the \n",
            "  improvement from the last ten iterations.\n",
            "  solution = fsolve(system, [A_guess, sigma_A_guess])\n",
            "C:\\Users\\paolo\\AppData\\Local\\Temp\\ipykernel_2184\\422696715.py:34: RuntimeWarning: The iteration is not making good progress, as measured by the \n",
            "  improvement from the last ten iterations.\n",
            "  solution = fsolve(system, [A_guess, sigma_A_guess])\n",
            "C:\\Users\\paolo\\AppData\\Local\\Temp\\ipykernel_2184\\422696715.py:34: RuntimeWarning: The iteration is not making good progress, as measured by the \n",
            "  improvement from the last ten iterations.\n",
            "  solution = fsolve(system, [A_guess, sigma_A_guess])\n",
            "C:\\Users\\paolo\\AppData\\Local\\Temp\\ipykernel_2184\\422696715.py:34: RuntimeWarning: The iteration is not making good progress, as measured by the \n",
            "  improvement from the last ten iterations.\n",
            "  solution = fsolve(system, [A_guess, sigma_A_guess])\n",
            "C:\\Users\\paolo\\AppData\\Local\\Temp\\ipykernel_2184\\422696715.py:34: RuntimeWarning: The iteration is not making good progress, as measured by the \n",
            "  improvement from the last ten iterations.\n",
            "  solution = fsolve(system, [A_guess, sigma_A_guess])\n",
            "C:\\Users\\paolo\\AppData\\Local\\Temp\\ipykernel_2184\\422696715.py:34: RuntimeWarning: The iteration is not making good progress, as measured by the \n",
            "  improvement from the last ten iterations.\n",
            "  solution = fsolve(system, [A_guess, sigma_A_guess])\n",
            "C:\\Users\\paolo\\AppData\\Local\\Temp\\ipykernel_2184\\422696715.py:34: RuntimeWarning: The iteration is not making good progress, as measured by the \n",
            "  improvement from the last ten iterations.\n",
            "  solution = fsolve(system, [A_guess, sigma_A_guess])\n",
            "C:\\Users\\paolo\\AppData\\Local\\Temp\\ipykernel_2184\\422696715.py:34: RuntimeWarning: The iteration is not making good progress, as measured by the \n",
            "  improvement from the last ten iterations.\n",
            "  solution = fsolve(system, [A_guess, sigma_A_guess])\n"
          ]
        },
        {
          "name": "stdout",
          "output_type": "stream",
          "text": [
            "                                      Close Price  \\\n",
            "Instrument Date                                     \n",
            "AAPL.O     2019-12-31 00:00:00+00:00      73.4125   \n",
            "           2020-01-02 00:00:00+00:00      75.0875   \n",
            "           2020-01-03 00:00:00+00:00      74.3575   \n",
            "           2020-01-06 00:00:00+00:00        74.95   \n",
            "           2020-01-07 00:00:00+00:00      74.5975   \n",
            "\n",
            "                                      Shares used to calculate Diluted EPS - Total  \\\n",
            "Instrument Date                                                                      \n",
            "AAPL.O     2019-12-31 00:00:00+00:00                                   18595652000   \n",
            "           2020-01-02 00:00:00+00:00                                   18595652000   \n",
            "           2020-01-03 00:00:00+00:00                                   18595652000   \n",
            "           2020-01-06 00:00:00+00:00                                   18595652000   \n",
            "           2020-01-07 00:00:00+00:00                                   18595652000   \n",
            "\n",
            "                                      Market Capitalization    Debt - Total  \\\n",
            "Instrument Date                                                               \n",
            "AAPL.O     2019-12-31 00:00:00+00:00         988886967600.0  108047000000.0   \n",
            "           2020-01-02 00:00:00+00:00         988886967600.0  108047000000.0   \n",
            "           2020-01-03 00:00:00+00:00         988886967600.0  108047000000.0   \n",
            "           2020-01-06 00:00:00+00:00         988886967600.0  108047000000.0   \n",
            "           2020-01-07 00:00:00+00:00         988886967600.0  108047000000.0   \n",
            "\n",
            "                                         RIC     Equity_Value  Log_Returns  \\\n",
            "Instrument Date                                                              \n",
            "AAPL.O     2019-12-31 00:00:00+00:00  AAPL.O  1365153302450.0      0.00728   \n",
            "           2020-01-02 00:00:00+00:00  AAPL.O  1396301019550.0      0.02256   \n",
            "           2020-01-03 00:00:00+00:00  AAPL.O  1382726193590.0     -0.00977   \n",
            "           2020-01-06 00:00:00+00:00  AAPL.O  1393744117400.0     0.007937   \n",
            "           2020-01-07 00:00:00+00:00  AAPL.O  1387189150070.0    -0.004714   \n",
            "\n",
            "                                      Rolling_Volatility      Total_value  \\\n",
            "Instrument Date                                                             \n",
            "AAPL.O     2019-12-31 00:00:00+00:00            0.263392  1473200302450.0   \n",
            "           2020-01-02 00:00:00+00:00            0.264154  1504348019550.0   \n",
            "           2020-01-03 00:00:00+00:00            0.241447  1490773193590.0   \n",
            "           2020-01-06 00:00:00+00:00            0.238327  1501791117400.0   \n",
            "           2020-01-07 00:00:00+00:00            0.238393  1495236150070.0   \n",
            "\n",
            "                                        A_solution  sigma_A_solution  \n",
            "Instrument Date                                                       \n",
            "AAPL.O     2019-12-31 00:00:00+00:00  1.468964e+12          0.244779  \n",
            "           2020-01-02 00:00:00+00:00  1.500111e+12          0.245874  \n",
            "           2020-01-03 00:00:00+00:00  1.486537e+12          0.224586  \n",
            "           2020-01-06 00:00:00+00:00  1.497555e+12          0.221807  \n",
            "           2020-01-07 00:00:00+00:00  1.491000e+12          0.221795  \n"
          ]
        }
      ],
      "source": [
        "#Computing the asset value and volatility at each point in time\n",
        "df_with_solutions = solve_for_all(data)\n",
        "print(df_with_solutions.head())"
      ]
    },
    {
      "cell_type": "code",
      "execution_count": 84,
      "metadata": {},
      "outputs": [],
      "source": [
        "#Adding leverage ration\n",
        "\n",
        "df_with_solutions['Leverage_Ratio'] = df_with_solutions['Debt - Total'] / df_with_solutions['A_solution']"
      ]
    },
    {
      "cell_type": "code",
      "execution_count": null,
      "metadata": {},
      "outputs": [],
      "source": []
    },
    {
      "cell_type": "markdown",
      "metadata": {},
      "source": [
        "## Computing the relevant quantities of the Merton's model"
      ]
    },
    {
      "cell_type": "code",
      "execution_count": 85,
      "metadata": {},
      "outputs": [],
      "source": [
        "def compute_additional_metrics(row):\n",
        "    # Extract inputs from the row\n",
        "    \"\"\"\n",
        "    V = row['Total_value']  # Asset value\n",
        "    sigma = row['Rolling_Volatility']  # Asset volatility\n",
        "    \"\"\"\n",
        "    V = row['A_solution']\n",
        "    sigma = row['sigma_A_solution']\n",
        "    \n",
        "    K = row['Debt - Total']  # Debt\n",
        "    row['Risk_Free_Rate'] = 0.01\n",
        "    r = row['Risk_Free_Rate']\n",
        "    \n",
        "    #print(V/K)\n",
        "\n",
        "    T = 1  # Time to maturity\n",
        "    t = 0  # Current time\n",
        "    #M = 1_000_000\n",
        "\n",
        "    # Compute quantities using the provided functions\n",
        "    equity_value = af.merton_equity(V, K, r, sigma, T, t)\n",
        "    debt_value = af.merton_debt(V, K, r, sigma, T, t)\n",
        "    default_probability = af.default_probability(V, K, r, sigma, T, t)\n",
        "    #mc_default_probability = af.monte_carlo_merton_2(V, K, r, sigma, T, M)\n",
        "    # mc_sim = af.monte_carlo_merton_2(V, K, r, sigma, T, M)\n",
        "    # mc_default_probability = mc_sim[2]\n",
        "    credit_spread = af.credit_spread_model(V, K, sigma, r, T, t)\n",
        "    #credit_spread_2 = af.credit_spread_model_new(V, K, sigma, r, T, t)\n",
        "\n",
        "\n",
        "    # Return results as a Series\n",
        "    return pd.Series({\n",
        "        'Merton_Equity_Value': equity_value,\n",
        "        'Merton_Debt_Value': debt_value,\n",
        "        'Default_Probability': default_probability,\n",
        "        #'MC_Default_Probability': mc_default_probability,\n",
        "        'Credit_Spread': credit_spread\n",
        "        \n",
        "    })\n",
        "#'Credit_Spread_2': credit_spread_2"
      ]
    },
    {
      "cell_type": "code",
      "execution_count": 86,
      "metadata": {},
      "outputs": [],
      "source": [
        "importlib.reload(af)\n",
        "\n",
        "#Compute the equity value, debt value and probability of default for each company and at each date\n",
        "df_with_metrics = df_with_solutions.apply(compute_additional_metrics, axis=1)\n",
        "\n",
        "#Combine the quantities results with the original dataframe\n",
        "df_final = pd.concat([df_with_solutions, df_with_metrics], axis=1)"
      ]
    },
    {
      "cell_type": "markdown",
      "metadata": {},
      "source": [
        "#### Plotting the probability of default through time"
      ]
    },
    {
      "cell_type": "code",
      "execution_count": 87,
      "metadata": {},
      "outputs": [
        {
          "data": {
            "image/png": "[encoded data removed]",
            "text/plain": [
              "<Figure size 640x480 with 1 Axes>"
            ]
          },
          "metadata": {},
          "output_type": "display_data"
        },
        {
          "data": {
            "image/png": "[encoded data removed]",
            "text/plain": [
              "<Figure size 640x480 with 1 Axes>"
            ]
          },
          "metadata": {},
          "output_type": "display_data"
        },
        {
          "data": {
            "image/png": "[encoded data removed]",
            "text/plain": [
              "<Figure size 640x480 with 1 Axes>"
            ]
          },
          "metadata": {},
          "output_type": "display_data"
        }
      ],
      "source": [
        "for ric in rics_list:\n",
        "    plt.figure()\n",
        "\n",
        "    def_probab = df_final.loc[ric]['Default_Probability']\n",
        "    plt.plot(def_probab)\n",
        "    plt.title(f'{ric}')\n",
        "\n",
        "    plt.grid()\n",
        "\n",
        "    plt.show()"
      ]
    },
    {
      "cell_type": "markdown",
      "metadata": {},
      "source": [
        "##### Checking the results"
      ]
    },
    {
      "cell_type": "code",
      "execution_count": 88,
      "metadata": {},
      "outputs": [
        {
          "data": {
            "text/html": [
              "<div>\n",
              "<style scoped>\n",
              "    .dataframe tbody tr th:only-of-type {\n",
              "        vertical-align: middle;\n",
              "    }\n",
              "\n",
              "    .dataframe tbody tr th {\n",
              "        vertical-align: top;\n",
              "    }\n",
              "\n",
              "    .dataframe thead th {\n",
              "        text-align: right;\n",
              "    }\n",
              "</style>\n",
              "<table border=\"1\" class=\"dataframe\">\n",
              "  <thead>\n",
              "    <tr style=\"text-align: right;\">\n",
              "      <th></th>\n",
              "      <th>Close Price</th>\n",
              "      <th>Shares used to calculate Diluted EPS - Total</th>\n",
              "      <th>Market Capitalization</th>\n",
              "      <th>Debt - Total</th>\n",
              "      <th>RIC</th>\n",
              "      <th>Equity_Value</th>\n",
              "      <th>Log_Returns</th>\n",
              "      <th>Rolling_Volatility</th>\n",
              "      <th>Total_value</th>\n",
              "      <th>A_solution</th>\n",
              "      <th>sigma_A_solution</th>\n",
              "      <th>Leverage_Ratio</th>\n",
              "      <th>Merton_Equity_Value</th>\n",
              "      <th>Merton_Debt_Value</th>\n",
              "      <th>Default_Probability</th>\n",
              "      <th>Credit_Spread</th>\n",
              "    </tr>\n",
              "    <tr>\n",
              "      <th>Date</th>\n",
              "      <th></th>\n",
              "      <th></th>\n",
              "      <th></th>\n",
              "      <th></th>\n",
              "      <th></th>\n",
              "      <th></th>\n",
              "      <th></th>\n",
              "      <th></th>\n",
              "      <th></th>\n",
              "      <th></th>\n",
              "      <th></th>\n",
              "      <th></th>\n",
              "      <th></th>\n",
              "      <th></th>\n",
              "      <th></th>\n",
              "      <th></th>\n",
              "    </tr>\n",
              "  </thead>\n",
              "  <tbody>\n",
              "    <tr>\n",
              "      <th>2024-12-19 00:00:00+00:00</th>\n",
              "      <td>8.957</td>\n",
              "      <td>323640100</td>\n",
              "      <td>3706536975.0</td>\n",
              "      <td>931124000.0</td>\n",
              "      <td>BRBI.MI</td>\n",
              "      <td>2898844375.7</td>\n",
              "      <td>-0.016828</td>\n",
              "      <td>0.245158</td>\n",
              "      <td>3829968375.7</td>\n",
              "      <td>3.793458e+09</td>\n",
              "      <td>0.187347</td>\n",
              "      <td>0.245455</td>\n",
              "      <td>2.871599e+09</td>\n",
              "      <td>9.218592e+08</td>\n",
              "      <td>6.614927e-14</td>\n",
              "      <td>9.992007e-16</td>\n",
              "    </tr>\n",
              "    <tr>\n",
              "      <th>2024-12-20 00:00:00+00:00</th>\n",
              "      <td>8.99</td>\n",
              "      <td>323640100</td>\n",
              "      <td>3706536975.0</td>\n",
              "      <td>931124000.0</td>\n",
              "      <td>BRBI.MI</td>\n",
              "      <td>2909524499.0</td>\n",
              "      <td>0.003677</td>\n",
              "      <td>0.245199</td>\n",
              "      <td>3840648499.0</td>\n",
              "      <td>3.804139e+09</td>\n",
              "      <td>0.187541</td>\n",
              "      <td>0.244766</td>\n",
              "      <td>2.882279e+09</td>\n",
              "      <td>9.218592e+08</td>\n",
              "      <td>6.268066e-14</td>\n",
              "      <td>9.992007e-16</td>\n",
              "    </tr>\n",
              "    <tr>\n",
              "      <th>2024-12-23 00:00:00+00:00</th>\n",
              "      <td>8.984</td>\n",
              "      <td>323640100</td>\n",
              "      <td>3706536975.0</td>\n",
              "      <td>931124000.0</td>\n",
              "      <td>BRBI.MI</td>\n",
              "      <td>2907582658.4</td>\n",
              "      <td>-0.000668</td>\n",
              "      <td>0.244963</td>\n",
              "      <td>3838706658.4</td>\n",
              "      <td>3.802197e+09</td>\n",
              "      <td>0.187331</td>\n",
              "      <td>0.244891</td>\n",
              "      <td>2.880338e+09</td>\n",
              "      <td>9.218592e+08</td>\n",
              "      <td>5.999912e-14</td>\n",
              "      <td>9.992007e-16</td>\n",
              "    </tr>\n",
              "    <tr>\n",
              "      <th>2024-12-27 00:00:00+00:00</th>\n",
              "      <td>9.126</td>\n",
              "      <td>323640100</td>\n",
              "      <td>3706536975.0</td>\n",
              "      <td>931124000.0</td>\n",
              "      <td>BRBI.MI</td>\n",
              "      <td>2953539552.6</td>\n",
              "      <td>0.015682</td>\n",
              "      <td>0.245513</td>\n",
              "      <td>3884663552.6</td>\n",
              "      <td>3.848154e+09</td>\n",
              "      <td>0.188441</td>\n",
              "      <td>0.241966</td>\n",
              "      <td>2.926294e+09</td>\n",
              "      <td>9.218592e+08</td>\n",
              "      <td>5.199091e-14</td>\n",
              "      <td>7.771561e-16</td>\n",
              "    </tr>\n",
              "    <tr>\n",
              "      <th>2024-12-30 00:00:00+00:00</th>\n",
              "      <td>9.093</td>\n",
              "      <td>323640100</td>\n",
              "      <td>3706536975.0</td>\n",
              "      <td>931124000.0</td>\n",
              "      <td>BRBI.MI</td>\n",
              "      <td>2942859429.3</td>\n",
              "      <td>-0.003623</td>\n",
              "      <td>0.245485</td>\n",
              "      <td>3873983429.3</td>\n",
              "      <td>3.837474e+09</td>\n",
              "      <td>0.188261</td>\n",
              "      <td>0.24264</td>\n",
              "      <td>2.915614e+09</td>\n",
              "      <td>9.218592e+08</td>\n",
              "      <td>5.501474e-14</td>\n",
              "      <td>8.881784e-16</td>\n",
              "    </tr>\n",
              "  </tbody>\n",
              "</table>\n",
              "</div>"
            ],
            "text/plain": [
              "                           Close Price  \\\n",
              "Date                                     \n",
              "2024-12-19 00:00:00+00:00        8.957   \n",
              "2024-12-20 00:00:00+00:00         8.99   \n",
              "2024-12-23 00:00:00+00:00        8.984   \n",
              "2024-12-27 00:00:00+00:00        9.126   \n",
              "2024-12-30 00:00:00+00:00        9.093   \n",
              "\n",
              "                           Shares used to calculate Diluted EPS - Total  \\\n",
              "Date                                                                      \n",
              "2024-12-19 00:00:00+00:00                                     323640100   \n",
              "2024-12-20 00:00:00+00:00                                     323640100   \n",
              "2024-12-23 00:00:00+00:00                                     323640100   \n",
              "2024-12-27 00:00:00+00:00                                     323640100   \n",
              "2024-12-30 00:00:00+00:00                                     323640100   \n",
              "\n",
              "                           Market Capitalization  Debt - Total      RIC  \\\n",
              "Date                                                                      \n",
              "2024-12-19 00:00:00+00:00           3706536975.0   931124000.0  BRBI.MI   \n",
              "2024-12-20 00:00:00+00:00           3706536975.0   931124000.0  BRBI.MI   \n",
              "2024-12-23 00:00:00+00:00           3706536975.0   931124000.0  BRBI.MI   \n",
              "2024-12-27 00:00:00+00:00           3706536975.0   931124000.0  BRBI.MI   \n",
              "2024-12-30 00:00:00+00:00           3706536975.0   931124000.0  BRBI.MI   \n",
              "\n",
              "                           Equity_Value  Log_Returns  Rolling_Volatility  \\\n",
              "Date                                                                       \n",
              "2024-12-19 00:00:00+00:00  2898844375.7    -0.016828            0.245158   \n",
              "2024-12-20 00:00:00+00:00  2909524499.0     0.003677            0.245199   \n",
              "2024-12-23 00:00:00+00:00  2907582658.4    -0.000668            0.244963   \n",
              "2024-12-27 00:00:00+00:00  2953539552.6     0.015682            0.245513   \n",
              "2024-12-30 00:00:00+00:00  2942859429.3    -0.003623            0.245485   \n",
              "\n",
              "                            Total_value    A_solution  sigma_A_solution  \\\n",
              "Date                                                                      \n",
              "2024-12-19 00:00:00+00:00  3829968375.7  3.793458e+09          0.187347   \n",
              "2024-12-20 00:00:00+00:00  3840648499.0  3.804139e+09          0.187541   \n",
              "2024-12-23 00:00:00+00:00  3838706658.4  3.802197e+09          0.187331   \n",
              "2024-12-27 00:00:00+00:00  3884663552.6  3.848154e+09          0.188441   \n",
              "2024-12-30 00:00:00+00:00  3873983429.3  3.837474e+09          0.188261   \n",
              "\n",
              "                           Leverage_Ratio  Merton_Equity_Value  \\\n",
              "Date                                                             \n",
              "2024-12-19 00:00:00+00:00        0.245455         2.871599e+09   \n",
              "2024-12-20 00:00:00+00:00        0.244766         2.882279e+09   \n",
              "2024-12-23 00:00:00+00:00        0.244891         2.880338e+09   \n",
              "2024-12-27 00:00:00+00:00        0.241966         2.926294e+09   \n",
              "2024-12-30 00:00:00+00:00         0.24264         2.915614e+09   \n",
              "\n",
              "                           Merton_Debt_Value  Default_Probability  \\\n",
              "Date                                                                \n",
              "2024-12-19 00:00:00+00:00       9.218592e+08         6.614927e-14   \n",
              "2024-12-20 00:00:00+00:00       9.218592e+08         6.268066e-14   \n",
              "2024-12-23 00:00:00+00:00       9.218592e+08         5.999912e-14   \n",
              "2024-12-27 00:00:00+00:00       9.218592e+08         5.199091e-14   \n",
              "2024-12-30 00:00:00+00:00       9.218592e+08         5.501474e-14   \n",
              "\n",
              "                           Credit_Spread  \n",
              "Date                                      \n",
              "2024-12-19 00:00:00+00:00   9.992007e-16  \n",
              "2024-12-20 00:00:00+00:00   9.992007e-16  \n",
              "2024-12-23 00:00:00+00:00   9.992007e-16  \n",
              "2024-12-27 00:00:00+00:00   7.771561e-16  \n",
              "2024-12-30 00:00:00+00:00   8.881784e-16  "
            ]
          },
          "execution_count": 88,
          "metadata": {},
          "output_type": "execute_result"
        }
      ],
      "source": [
        "df_final.loc[rics_list[2]].tail()"
      ]
    },
    {
      "cell_type": "markdown",
      "metadata": {},
      "source": [
        "#### Debugging the credit spread"
      ]
    },
    {
      "cell_type": "code",
      "execution_count": 89,
      "metadata": {},
      "outputs": [
        {
          "name": "stdout",
          "output_type": "stream",
          "text": [
            "Debt-to-value: 0.6060301002505009\n",
            "Log: 0.5108256237659907\n",
            "Numerator: 0.5420756237659907\n",
            "Volatility: 0.25\n",
            "d1: 2.168302495063963\n",
            "First addend: -0.027922564726853342\n",
            "Second addend: 0.025113065607051538\n",
            "Not discounted: 0.00242620838220305\n",
            "Credit spread: 0.00242620838220305\n"
          ]
        }
      ],
      "source": [
        "r = 0.01\n",
        "T = 1\n",
        "t = 0\n",
        "\n",
        "sigma = 0.25\n",
        "\n",
        "\n",
        "V = 3837473534.932722\n",
        "#K = 931124000.0 * 2\n",
        "\n",
        "\n",
        "p_0 = np.exp(-r * (T - t))\n",
        "K = (V * 0.6) / p_0\n",
        "\n",
        "# 2) Calculate d1 and d2\n",
        "d1 = (-(np.log((K*p_0)/V)) + (0 + 0.5*sigma**2) * (T - t)) / (sigma * np.sqrt(T -t))\n",
        "\n",
        "d2 = d1 - (sigma * np.sqrt(T - t))\n",
        "\n",
        "# 3) *Defaultable* bond price using Merton's debt formula\n",
        "#defaultable_bond = K * riskless * norm.cdf(d2) + V * (1 - norm.cdf(d1))\n",
        "\n",
        "# 4) Credit spread calculation: -1/(T - t) * ln(defaultable_bond / riskless_bond)\n",
        "credit_spread = -1/(T - t) * np.log(norm.cdf(d2) + (V/(K *p_0))*norm.cdf(-d1))\n",
        "\n",
        "print(f'Debt-to-value: {K/V}')\n",
        "print(f'Log: {-(np.log((K*p_0)/V))}')\n",
        "print(f'Numerator: {(-(np.log((K*p_0)/V)) + (0 + 0.5*sigma**2) * (T - t))}')\n",
        "print(f'Volatility: {sigma}')\n",
        "print(f'd1: {d1}')\n",
        "print(f'First addend: {np.log(norm.cdf(d2) )}' )\n",
        "print(f'Second addend: {(V/(K *p_0))*norm.cdf(-d1)}')\n",
        "print(f'Not discounted: {-np.log(norm.cdf(d2) + (V/(K *p_0))*norm.cdf(-d1))}')\n",
        "print(f'Credit spread: {credit_spread}')"
      ]
    },
    {
      "cell_type": "code",
      "execution_count": 90,
      "metadata": {},
      "outputs": [
        {
          "data": {
            "text/plain": [
              "0.013587038390588863"
            ]
          },
          "execution_count": 90,
          "metadata": {},
          "output_type": "execute_result"
        }
      ],
      "source": [
        "#Test the credit spread model with mock examples\n",
        "af.credit_spread_model(V = 40, K = 15, sigma = 0.4, r = 0.04, T = 5, t = 0)"
      ]
    },
    {
      "cell_type": "markdown",
      "metadata": {},
      "source": [
        "## Impact of Volatility on Credit Spread"
      ]
    },
    {
      "cell_type": "code",
      "execution_count": 91,
      "metadata": {},
      "outputs": [
        {
          "data": {
            "image/png": "[encoded data removed]",
            "text/plain": [
              "<Figure size 1200x600 with 1 Axes>"
            ]
          },
          "metadata": {},
          "output_type": "display_data"
        }
      ],
      "source": [
        "mp.plot_spread_vol(100,60,0,2,0)"
      ]
    },
    {
      "cell_type": "markdown",
      "metadata": {},
      "source": [
        "## Impact of Time to Maturity on Credit Spread\n"
      ]
    },
    {
      "cell_type": "code",
      "execution_count": 92,
      "metadata": {},
      "outputs": [
        {
          "data": {
            "image/png": "[encoded data removed]",
            "text/plain": [
              "<Figure size 1200x600 with 1 Axes>"
            ]
          },
          "metadata": {},
          "output_type": "display_data"
        }
      ],
      "source": [
        "mp.plot_spread_time(100,60,0,2,0)"
      ]
    },
    {
      "cell_type": "markdown",
      "metadata": {},
      "source": [
        "## Montecarlo simulations of the last observed day of each stock"
      ]
    },
    {
      "cell_type": "markdown",
      "metadata": {},
      "source": [
        "We need a large number of simulations given the extremely low probabilities we obtain for highly capitalized firms "
      ]
    },
    {
      "cell_type": "code",
      "execution_count": 93,
      "metadata": {},
      "outputs": [
        {
          "data": {
            "text/plain": [
              "Close Price                                            9.093\n",
              "Shares used to calculate Diluted EPS - Total       323640100\n",
              "Market Capitalization                           3706536975.0\n",
              "Debt - Total                                     931124000.0\n",
              "RIC                                                  BRBI.MI\n",
              "Equity_Value                                    2942859429.3\n",
              "Log_Returns                                        -0.003623\n",
              "Rolling_Volatility                                  0.245485\n",
              "Total_value                                     3873983429.3\n",
              "Name: 2024-12-30 00:00:00+00:00, dtype: object"
            ]
          },
          "execution_count": 93,
          "metadata": {},
          "output_type": "execute_result"
        }
      ],
      "source": [
        "data.loc[ric].iloc[-1,:]"
      ]
    },
    {
      "cell_type": "code",
      "execution_count": 94,
      "metadata": {},
      "outputs": [
        {
          "data": {
            "text/plain": [
              "0.24263984923872237"
            ]
          },
          "execution_count": 94,
          "metadata": {},
          "output_type": "execute_result"
        }
      ],
      "source": [
        "931124000.0 / 3837473535.041267"
      ]
    },
    {
      "cell_type": "code",
      "execution_count": 95,
      "metadata": {},
      "outputs": [
        {
          "data": {
            "text/plain": [
              "['AAPL.O', 'META.O', 'BRBI.MI']"
            ]
          },
          "execution_count": 95,
          "metadata": {},
          "output_type": "execute_result"
        }
      ],
      "source": [
        "rics_list \n"
      ]
    },
    {
      "cell_type": "code",
      "execution_count": 96,
      "metadata": {},
      "outputs": [
        {
          "name": "stdout",
          "output_type": "stream",
          "text": [
            "----------------------------------------------------------------------------------------------------\n",
            "AAPL.O\n",
            "\n",
            "Close Price                                                    252.2\n",
            "Shares used to calculate Diluted EPS - Total             15408095000\n",
            "Market Capitalization                                3463350367230.0\n",
            "Debt - Total                                          107525000000.0\n",
            "RIC                                                           AAPL.O\n",
            "Equity_Value                                         3885921559000.0\n",
            "Log_Returns                                                -0.013352\n",
            "Rolling_Volatility                                          0.225923\n",
            "Total_value                                          3993446559000.0\n",
            "A_solution                                      3989230443444.853516\n",
            "sigma_A_solution                                            0.220073\n",
            "Leverage_Ratio                                              0.026954\n",
            "Risk_Free_Rate                                                  0.04\n",
            "Name: 2024-12-30 00:00:00+00:00, dtype: object\n",
            "\n",
            "\n",
            "\n",
            "The probability of default according to the Merton model is: 4.1800249253638224e-60\n",
            "\n",
            "Min log(V_T): 27.894072325411067, Max log(V_T): 30.021356520999433, Threshold: 25.40098921561621\n",
            "The threshold is: -16.310140305997805\n",
            "\n",
            "The threshold without the decimals is: -16.310140305997805\n",
            "The number of observations below the threshold is: 0\n",
            "The number of simulated defaults is: 0\n",
            "Min log(V_T) - Anti: 27.89265211234952, Max log(V_T) - Anti: 30.08815487128933, Threshold - Anti: 25.40098921561621\n",
            "Decimal Calculation -> num: -3.6136302412949655, den: 0.2200725566341854, term: 0.1100362783170927, threshold: -3.723666519612058\n",
            "Float Calculation -> num: -3.6136302412949655, den: 0.2200725566341854, term: -0.1100362783170927, threshold: -15.920176584314898\n",
            "----------------------------------------------------------------------------------------------------\n",
            "META.O\n",
            "\n",
            "Close Price                                                   591.24\n",
            "Shares used to calculate Diluted EPS - Total              2629000000\n",
            "Market Capitalization                            909628612618.719971\n",
            "Debt - Total                                           19075000000.0\n",
            "RIC                                                           META.O\n",
            "Equity_Value                                         1554369960000.0\n",
            "Log_Returns                                                -0.014391\n",
            "Rolling_Volatility                                          0.356984\n",
            "Total_value                                          1573444960000.0\n",
            "A_solution                                      1572697018551.830566\n",
            "sigma_A_solution                                            0.352824\n",
            "Leverage_Ratio                                              0.012129\n",
            "Risk_Free_Rate                                                  0.04\n",
            "Name: 2024-12-30 00:00:00+00:00, dtype: object\n",
            "\n",
            "\n",
            "\n",
            "The probability of default according to the Merton model is: 3.166379582725172e-35\n",
            "\n",
            "Min log(V_T): 26.2966224793896, Max log(V_T): 29.816673976663225, Threshold: 23.671644414116933\n",
            "The threshold is: -12.328871242266143\n",
            "\n",
            "The threshold without the decimals is: -12.328871242266143\n",
            "The number of observations below the threshold is: 0\n",
            "The number of simulated defaults is: 0\n",
            "Min log(V_T) - Anti: 26.303771876381692, Max log(V_T) - Anti: 29.739369305899363, Threshold - Anti: 23.671644414116933\n",
            "Decimal Calculation -> num: -4.4121686935729985, den: 0.3528243657952296, term: 0.1764121828976148, threshold: -4.588580876470613\n",
            "Float Calculation -> num: -4.4121686935729985, den: 0.3528243657952296, term: -0.1764121828976148, threshold: -12.005283425163757\n",
            "----------------------------------------------------------------------------------------------------\n",
            "BRBI.MI\n",
            "\n",
            "Close Price                                                 9.093\n",
            "Shares used to calculate Diluted EPS - Total            323640100\n",
            "Market Capitalization                                3706536975.0\n",
            "Debt - Total                                          931124000.0\n",
            "RIC                                                       BRBI.MI\n",
            "Equity_Value                                         2942859429.3\n",
            "Log_Returns                                             -0.003623\n",
            "Rolling_Volatility                                       0.245485\n",
            "Total_value                                          3873983429.3\n",
            "A_solution                                      3837473535.041267\n",
            "sigma_A_solution                                         0.188261\n",
            "Leverage_Ratio                                            0.24264\n",
            "Risk_Free_Rate                                               0.04\n",
            "Name: 2024-12-30 00:00:00+00:00, dtype: object\n",
            "\n",
            "\n",
            "\n",
            "The probability of default according to the Merton model is: 5.5014742296228606e-14\n",
            "\n",
            "Min log(V_T): 21.17783854258714, Max log(V_T): 23.026756300920436, Threshold: 20.65190301649048\n",
            "The threshold is: -7.42826724483971\n",
            "\n",
            "The threshold without the decimals is: -7.42826724483971\n",
            "The number of observations below the threshold is: 0\n",
            "The number of simulated defaults is: 0\n",
            "Min log(V_T) - Anti: 21.097750066738993, Max log(V_T) - Anti: 23.00296769189193, Threshold - Anti: 20.65190301649048\n",
            "Decimal Calculation -> num: -1.4161770369392845, den: 0.18826138273316254, term: 0.09413069136658127, threshold: -1.510307728305866\n",
            "Float Calculation -> num: -1.4161770369392845, den: 0.18826138273316254, term: -0.09413069136658127, threshold: -7.022397936206291\n"
          ]
        }
      ],
      "source": [
        "importlib.reload(af)\n",
        "import time as time\n",
        "mc_probabilities = {}\n",
        "rics_paths = {}\n",
        "\n",
        "for ric in rics_list:\n",
        "\n",
        "    row = df_with_solutions.loc[ric].iloc[-1]\n",
        "    \n",
        "    V = row['A_solution']\n",
        "    sigma = row['sigma_A_solution']\n",
        "    \n",
        "    K = row['Debt - Total']  # Debt\n",
        "    row['Risk_Free_Rate'] = 0.04\n",
        "    r = row['Risk_Free_Rate']\n",
        "    \n",
        "    #print(V/K)\n",
        "\n",
        "    T = 1  # Time to maturity\n",
        "    t = 0  # Current time\n",
        "    M = 1_000_000\n",
        "\n",
        "    print('-'*100)\n",
        "    print(f'{ric}\\n')\n",
        "    print(row)\n",
        "    print('\\n')\n",
        "    \n",
        "    merton_prob = af.default_probability(V, K, r, sigma, T , t)\n",
        "    \n",
        "    \n",
        "    print(f'\\nThe probability of default according to the Merton model is: {merton_prob}\\n')\n",
        "    \n",
        "    mc_prob = af.monte_carlo_merton(V, K, r, sigma, T, M)\n",
        "    mc_prob_anti = af.monte_carlo_merton_anti(V, K, r, sigma, T, M)\n"
      ]
    },
    {
      "cell_type": "code",
      "execution_count": 97,
      "metadata": {},
      "outputs": [
        {
          "data": {
            "text/plain": [
              "\"\\n    mc_probabilities[ric] = mc_prob\\n    print(f'Merton probability is: {merton_prob}')\\n    print(f'Monte Carlo Merton is: {mc_prob}')\\n\\n    st = time.time()\\n\\n    steps = 1000\\n    batch_size = 10_000\\n    mc_prob_2 = af.monte_carlo_path_batched(V, K, r, sigma, T, M, steps, batch_size)\\n    et = time.time()\\n\\n    print(f'TIme elapsed = {et- st}')\\n    #rics_paths[ric] = paths\\n\""
            ]
          },
          "execution_count": 97,
          "metadata": {},
          "output_type": "execute_result"
        }
      ],
      "source": [
        "\"\"\"\n",
        "    mc_probabilities[ric] = mc_prob\n",
        "    print(f'Merton probability is: {merton_prob}')\n",
        "    print(f'Monte Carlo Merton is: {mc_prob}')\n",
        "\n",
        "    st = time.time()\n",
        "\n",
        "    steps = 1000\n",
        "    batch_size = 10_000\n",
        "    mc_prob_2 = af.monte_carlo_path_batched(V, K, r, sigma, T, M, steps, batch_size)\n",
        "    et = time.time()\n",
        "\n",
        "    print(f'TIme elapsed = {et- st}')\n",
        "    #rics_paths[ric] = paths\n",
        "\"\"\"\n",
        "    "
      ]
    },
    {
      "cell_type": "code",
      "execution_count": 98,
      "metadata": {},
      "outputs": [],
      "source": [
        "# plt.figure()\n",
        "\n",
        "# ric = rics_list[-1]\n",
        "# M = 10000\n",
        "# mc_prob_2, paths = af.monte_carlo_path(V, K, r, sigma, T, M, steps)\n",
        "# rics_paths[ric] = paths\n",
        "\n",
        "\n",
        "# paths_sing = rics_paths[ric]\n",
        "\n",
        "# if mc_prob_2 > 0:\n",
        "\n",
        "#     plt.axhline(np.log(V))\n",
        "\n",
        "#     for i in range(paths_sing.shape[0]):\n",
        "\n",
        "#         plt.plot(paths_sing[i, :], alpha = 0.2)\n",
        "\n",
        "#     plt.axhline(np.log(K))\n",
        "#     plt.title(f'A {M} simulations for {ric}')\n",
        "\n",
        "#     plt.show()"
      ]
    },
    {
      "cell_type": "markdown",
      "metadata": {},
      "source": [
        "## Ratings of S&P 500"
      ]
    },
    {
      "cell_type": "code",
      "execution_count": 99,
      "metadata": {},
      "outputs": [
        {
          "name": "stderr",
          "output_type": "stream",
          "text": [
            "c:\\Users\\paolo\\anaconda3\\envs\\grad\\Lib\\site-packages\\eikon\\data_grid.py:255: FutureWarning: errors='ignore' is deprecated and will raise in a future version. Use to_numeric without passing `errors` and catch exceptions explicitly instead\n",
            "  df = df.apply(pd.to_numeric, errors='ignore')\n"
          ]
        },
        {
          "name": "stdout",
          "output_type": "stream",
          "text": [
            "  Instrument        Company Common Name  Issuer Rating  Issuer Rating\n",
            "0    POOL.OQ                  Pool Corp           <NA>           <NA>\n",
            "1    CHRW.OQ  CH Robinson Worldwide Inc           <NA>           <NA>\n",
            "2      AJG.N  Arthur J. Gallagher & Co.           <NA>           <NA>\n",
            "3      CNP.N     CenterPoint Energy Inc           <NA>           <NA>\n",
            "4     AMCR.N                  Amcor PLC           <NA>           <NA>\n",
            "  Instrument        Company Common Name Issuer Rating\n",
            "0    POOL.OQ                  Pool Corp           A1+\n",
            "1    CHRW.OQ  CH Robinson Worldwide Inc           A1+\n",
            "2      AJG.N  Arthur J. Gallagher & Co.          Baa2\n",
            "3      CNP.N     CenterPoint Energy Inc          Baa3\n",
            "4     AMCR.N                  Amcor PLC          Baa2\n"
          ]
        },
        {
          "name": "stderr",
          "output_type": "stream",
          "text": [
            "c:\\Users\\paolo\\anaconda3\\envs\\grad\\Lib\\site-packages\\eikon\\data_grid.py:255: FutureWarning: errors='ignore' is deprecated and will raise in a future version. Use to_numeric without passing `errors` and catch exceptions explicitly instead\n",
            "  df = df.apply(pd.to_numeric, errors='ignore')\n"
          ]
        }
      ],
      "source": [
        "ratings_data, err = ek.get_data(instruments=['0#.SPX'], \n",
        "                                fields=['TR.CommonName',\n",
        "                                        'TR.IssuerRating(IssuerRatingSrc=SPI)',\n",
        "                                        'TR.IssuerRating(IssuerRatingSrc=SPI,Sdate=-10Y)'])\n",
        "print(ratings_data.head())\n",
        "\n",
        "ratings_data, err = ek.get_data(instruments=['0#.SPX'], \n",
        "                                fields=['TR.CommonName',\n",
        "                                        'TR.IssuerRating'])\n",
        "print(ratings_data.head())"
      ]
    },
    {
      "cell_type": "code",
      "execution_count": 100,
      "metadata": {},
      "outputs": [
        {
          "data": {
            "text/plain": [
              "Issuer Rating\n",
              "Baa2            51\n",
              "Baa1            49\n",
              "A1+             39\n",
              "A1              39\n",
              "                35\n",
              "P-2             30\n",
              "A2              25\n",
              "Baa3            24\n",
              "A3              20\n",
              "NR              19\n",
              "BBB             17\n",
              "A               13\n",
              "P-1             12\n",
              "BBB+            11\n",
              "Ba1             11\n",
              "Aa3             10\n",
              "BBB-             9\n",
              "WR               9\n",
              "A-               7\n",
              "F1               6\n",
              "A+               6\n",
              "WD               6\n",
              "Ba2              6\n",
              "Discontinued     5\n",
              "BB+              4\n",
              "BB               4\n",
              "F2               4\n",
              "Aa2              4\n",
              "P-3              3\n",
              "Ba3              2\n",
              "BB-              2\n",
              "B-               2\n",
              "B1               2\n",
              "F3               2\n",
              "AA-              2\n",
              "B                2\n",
              "LGD2 - 20%       1\n",
              "Aaa              1\n",
              "LGD4 - 68%       1\n",
              "(P)Baa3          1\n",
              "B+               1\n",
              "LGD5 - 74%       1\n",
              "LGD5 - 81%       1\n",
              "(P)A2            1\n",
              "AA               1\n",
              "(P)Baa2          1\n",
              "LGD4 - 54%       1\n",
              "Name: count, dtype: Int64"
            ]
          },
          "execution_count": 100,
          "metadata": {},
          "output_type": "execute_result"
        }
      ],
      "source": [
        "ratings_data['Issuer Rating'].value_counts()"
      ]
    },
    {
      "cell_type": "code",
      "execution_count": 101,
      "metadata": {},
      "outputs": [
        {
          "data": {
            "text/html": [
              "<div>\n",
              "<style scoped>\n",
              "    .dataframe tbody tr th:only-of-type {\n",
              "        vertical-align: middle;\n",
              "    }\n",
              "\n",
              "    .dataframe tbody tr th {\n",
              "        vertical-align: top;\n",
              "    }\n",
              "\n",
              "    .dataframe thead th {\n",
              "        text-align: right;\n",
              "    }\n",
              "</style>\n",
              "<table border=\"1\" class=\"dataframe\">\n",
              "  <thead>\n",
              "    <tr style=\"text-align: right;\">\n",
              "      <th></th>\n",
              "      <th>Instrument</th>\n",
              "      <th>Company Common Name</th>\n",
              "      <th>Issuer Rating</th>\n",
              "    </tr>\n",
              "  </thead>\n",
              "  <tbody>\n",
              "    <tr>\n",
              "      <th>63</th>\n",
              "      <td>DAY.N</td>\n",
              "      <td>Dayforce Inc</td>\n",
              "      <td>B1</td>\n",
              "    </tr>\n",
              "    <tr>\n",
              "      <th>346</th>\n",
              "      <td>CZR.OQ</td>\n",
              "      <td>Caesars Entertainment Inc</td>\n",
              "      <td>B1</td>\n",
              "    </tr>\n",
              "  </tbody>\n",
              "</table>\n",
              "</div>"
            ],
            "text/plain": [
              "    Instrument        Company Common Name Issuer Rating\n",
              "63       DAY.N               Dayforce Inc            B1\n",
              "346     CZR.OQ  Caesars Entertainment Inc            B1"
            ]
          },
          "execution_count": 101,
          "metadata": {},
          "output_type": "execute_result"
        }
      ],
      "source": [
        "ratings_data[ratings_data['Issuer Rating'] == 'B1']"
      ]
    }
  ],
  "metadata": {
    "colab": {
      "authorship_tag": "ABX9TyML4EGjqSwJLboWOStafFQq",
      "include_colab_link": true,
      "provenance": []
    },
    "kernelspec": {
      "display_name": "grad",
      "language": "python",
      "name": "python3"
    },
    "language_info": {
      "codemirror_mode": {
        "name": "ipython",
        "version": 3
      },
      "file_extension": ".py",
      "mimetype": "text/x-python",
      "name": "python",
      "nbconvert_exporter": "python",
      "pygments_lexer": "ipython3",
      "version": "3.11.7"
    }
  },
  "nbformat": 4,
  "nbformat_minor": 0
}
