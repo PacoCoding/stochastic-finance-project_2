{
  "cells": [
    {
      "cell_type": "markdown",
      "metadata": {
        "colab_type": "text",
        "id": "view-in-github"
      },
      "source": [
        "<a href=\"https://colab.research.google.com/github/francescomazzolin/stochastic-finance-project/blob/main/main.ipynb\" target=\"_parent\"><img src=\"https://colab.research.google.com/assets/colab-badge.svg\" alt=\"Open In Colab\"/></a>"
      ]
    },
    {
      "cell_type": "markdown",
      "metadata": {
        "id": "v9ZeALOfxdXN"
      },
      "source": [
        "#Stochastic Finance Project\n",
        "\n",
        "Giada Martini\n",
        "\n",
        "Francesco Mazzolin\n",
        "\n",
        "Francesco Salvagnin\n",
        "\n",
        "Nicolas Stecca\n"
      ]
    },
    {
      "cell_type": "markdown",
      "metadata": {},
      "source": [
        "## Importing the packages\n"
      ]
    },
    {
      "cell_type": "code",
      "execution_count": 1,
      "metadata": {
        "id": "FriuL1WCxcHP"
      },
      "outputs": [],
      "source": [
        "\n",
        "#!pip install eikon\n",
        "\n",
        "import eikon as ek\n",
        "import pandas as pd\n",
        "import numpy as np\n",
        "from scipy.stats import norm\n",
        "\n"
      ]
    },
    {
      "cell_type": "markdown",
      "metadata": {},
      "source": [
        "## Retrieving the data"
      ]
    },
    {
      "cell_type": "code",
      "execution_count": 2,
      "metadata": {},
      "outputs": [],
      "source": [
        "# Setting up the API key\n",
        "ek.set_app_key('6e2b6a629eb84c0b859dc5faf22d48f94d85de97')"
      ]
    },
    {
      "cell_type": "code",
      "execution_count": 22,
      "metadata": {},
      "outputs": [],
      "source": [
        "#Setting up the function\n",
        "def get_financial_data(rics):\n",
        "    rics = rics\n",
        "    #Data fields we are interested in: \n",
        "      #Total value of equity\n",
        "      #Total value of debt\n",
        "    fields = ['TR.CLOSEPRICE.date',\n",
        "              'TR.CLOSEPRICE', \n",
        "              'TR.F.ShrUsedToCalcDilEPSTot','TR.F.MktCap', 'TR.F.DebtTot']\n",
        "    results = []\n",
        "\n",
        "    for ric in rics:\n",
        "        data, err = ek.get_data([ric], fields,\n",
        "                                {'SDate': '2020-10-30', 'EDate': '2020-09-12', 'FRQ':'D','period':'FY0'})\n",
        "        if err is None:\n",
        "            data['RIC'] = ric\n",
        "            results.append(data)\n",
        "        else:\n",
        "            print(f\"Error retrieving data for {ric}: {err}\")\n",
        "\n",
        "    #Combine results into a single DataFrame\n",
        "    df = pd.concat(results, ignore_index=True)\n",
        "    df.drop(columns=['RIC'])\n",
        "\n",
        "    #Add Total asset value column\n",
        "    #df['Total_value'] = df['Common Equity - Total'] + df['Debt - Total']\n",
        "\n",
        "    return df\n"
      ]
    },
    {
      "cell_type": "markdown",
      "metadata": {},
      "source": [
        "#### Choosing the stocks"
      ]
    },
    {
      "cell_type": "code",
      "execution_count": 23,
      "metadata": {},
      "outputs": [],
      "source": [
        "rics_list = ['AAPL.O']\n",
        "\n"
      ]
    },
    {
      "cell_type": "markdown",
      "metadata": {},
      "source": [
        "#### Retrieving the data"
      ]
    },
    {
      "cell_type": "code",
      "execution_count": 24,
      "metadata": {},
      "outputs": [
        {
          "name": "stderr",
          "output_type": "stream",
          "text": [
            "c:\\Users\\paolo\\anaconda3\\Lib\\site-packages\\eikon\\data_grid.py:255: FutureWarning: errors='ignore' is deprecated and will raise in a future version. Use to_numeric without passing `errors` and catch exceptions explicitly instead\n",
            "  df = df.apply(pd.to_numeric, errors='ignore')\n"
          ]
        }
      ],
      "source": [
        "data = get_financial_data(rics_list)"
      ]
    },
    {
      "cell_type": "code",
      "execution_count": 28,
      "metadata": {},
      "outputs": [
        {
          "data": {
            "text/plain": [
              "pandas.core.frame.DataFrame"
            ]
          },
          "execution_count": 28,
          "metadata": {},
          "output_type": "execute_result"
        }
      ],
      "source": [
        "type(data)"
      ]
    },
    {
      "cell_type": "code",
      "execution_count": 27,
      "metadata": {},
      "outputs": [
        {
          "name": "stdout",
          "output_type": "stream",
          "text": [
            "  Instrument                  Date  Close Price  \\\n",
            "0     AAPL.O  2020-10-30T00:00:00Z       108.86   \n",
            "1     AAPL.O  2020-10-29T00:00:00Z       115.32   \n",
            "2     AAPL.O  2020-10-28T00:00:00Z        111.2   \n",
            "3     AAPL.O  2020-10-27T00:00:00Z        116.6   \n",
            "4     AAPL.O  2020-10-26T00:00:00Z       115.05   \n",
            "\n",
            "   Shares used to calculate Diluted EPS - Total  Market Capitalization  \\\n",
            "0                                   17528214000          1920272742080   \n",
            "1                                   17528214000          1920272742080   \n",
            "2                                   18595652000           988886967600   \n",
            "3                                   18595652000           988886967600   \n",
            "4                                   18595652000           988886967600   \n",
            "\n",
            "   Debt - Total     RIC  \n",
            "0  113097000000  AAPL.O  \n",
            "1  113097000000  AAPL.O  \n",
            "2  108047000000  AAPL.O  \n",
            "3  108047000000  AAPL.O  \n",
            "4  108047000000  AAPL.O  \n"
          ]
        }
      ],
      "source": [
        "print(data.head())"
      ]
    }
  ],
  "metadata": {
    "colab": {
      "authorship_tag": "ABX9TyML4EGjqSwJLboWOStafFQq",
      "include_colab_link": true,
      "provenance": []
    },
    "kernelspec": {
      "display_name": "base",
      "language": "python",
      "name": "python3"
    },
    "language_info": {
      "codemirror_mode": {
        "name": "ipython",
        "version": 3
      },
      "file_extension": ".py",
      "mimetype": "text/x-python",
      "name": "python",
      "nbconvert_exporter": "python",
      "pygments_lexer": "ipython3",
      "version": "3.11.7"
    }
  },
  "nbformat": 4,
  "nbformat_minor": 0
}
