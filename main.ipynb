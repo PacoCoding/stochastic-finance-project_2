{
  "cells": [
    {
      "cell_type": "markdown",
      "metadata": {
        "colab_type": "text",
        "id": "view-in-github"
      },
      "source": [
        "<a href=\"https://colab.research.google.com/github/francescomazzolin/stochastic-finance-project/blob/main/main.ipynb\" target=\"_parent\"><img src=\"https://colab.research.google.com/assets/colab-badge.svg\" alt=\"Open In Colab\"/></a>"
      ]
    },
    {
      "cell_type": "markdown",
      "metadata": {
        "id": "v9ZeALOfxdXN"
      },
      "source": [
        "#Stochastic Finance Project\n",
        "\n",
        "Giada Martini\n",
        "\n",
        "Francesco Mazzolin\n",
        "\n",
        "Francesco Salvagnin\n",
        "\n",
        "Nicolas Stecca\n"
      ]
    },
    {
      "cell_type": "markdown",
      "metadata": {},
      "source": [
        "## Importing the packages\n"
      ]
    },
    {
      "cell_type": "code",
      "execution_count": 1,
      "metadata": {
        "id": "FriuL1WCxcHP"
      },
      "outputs": [],
      "source": [
        "\n",
        "#!pip install eikon\n",
        "\n",
        "import eikon as ek\n",
        "import pandas as pd\n",
        "import numpy as np\n",
        "from scipy.stats import norm\n",
        "\n"
      ]
    },
    {
      "cell_type": "markdown",
      "metadata": {},
      "source": [
        "## Retrieving the data"
      ]
    },
    {
      "cell_type": "code",
      "execution_count": 2,
      "metadata": {},
      "outputs": [],
      "source": [
        "# Setting up the API key\n",
        "ek.set_app_key('6e2b6a629eb84c0b859dc5faf22d48f94d85de97')"
      ]
    },
    {
      "cell_type": "markdown",
      "metadata": {},
      "source": [
        "#### Search parameters\n"
      ]
    },
    {
      "cell_type": "code",
      "execution_count": 29,
      "metadata": {},
      "outputs": [],
      "source": [
        "\n",
        "fields = ['TR.CLOSEPRICE.date',\n",
        "            'TR.CLOSEPRICE', \n",
        "            'TR.F.ShrUsedToCalcDilEPSTot','TR.F.MktCap', 'TR.F.DebtTot']\n",
        "\n",
        "start_date = '2024-12-30'\n",
        "\n",
        "end_date = '2018-12-30'"
      ]
    },
    {
      "cell_type": "code",
      "execution_count": 62,
      "metadata": {},
      "outputs": [],
      "source": [
        "#Setting up the function\n",
        "def get_financial_data(rics, fields, \n",
        "                       start_date, end_date):\n",
        "    rics = rics\n",
        "    #Data fields we are interested in: \n",
        "      #Total value of equity\n",
        "      #Total value of debt\n",
        "\n",
        "    results = []\n",
        "\n",
        "    df = pd.DataFrame()\n",
        "\n",
        "    for ric in rics:\n",
        "        data, err = ek.get_data([ric], fields,\n",
        "                                {'SDate': f'{start_date}' , 'EDate': f'{end_date}', 'FRQ':'D','period':'FY0'}) #Not sure about period\n",
        "        if err is None:\n",
        "            data['RIC'] = ric\n",
        "            results.append(data)\n",
        "        else:\n",
        "            print(f\"Error retrieving data for {ric}: {err}\")\n",
        "        \n",
        "        #Computing total asset values as a sum of the market capitalization + total debt\n",
        "        data['Total_value'] = data['Market Capitalization'] + data['Debt - Total']\n",
        "        \n",
        "        data = data.set_index(['Instrument', 'Date'])\n",
        "\n",
        "    #Combine results into a single DataFrame\n",
        "        df = pd.concat([df, data])\n",
        "    #df.drop(columns=['RIC'])\n",
        "\n",
        "    #Add Total asset value column\n",
        "    \n",
        "\n",
        "    return df\n"
      ]
    },
    {
      "cell_type": "markdown",
      "metadata": {},
      "source": [
        "#### Choosing the stocks"
      ]
    },
    {
      "cell_type": "code",
      "execution_count": 63,
      "metadata": {},
      "outputs": [],
      "source": [
        "rics_list = ['AAPL.O', 'META.O']\n",
        "\n"
      ]
    },
    {
      "cell_type": "markdown",
      "metadata": {},
      "source": [
        "#### Retrieving the data"
      ]
    },
    {
      "cell_type": "code",
      "execution_count": 68,
      "metadata": {},
      "outputs": [
        {
          "name": "stderr",
          "output_type": "stream",
          "text": [
            "c:\\Users\\paolo\\anaconda3\\Lib\\site-packages\\eikon\\data_grid.py:255: FutureWarning: errors='ignore' is deprecated and will raise in a future version. Use to_numeric without passing `errors` and catch exceptions explicitly instead\n",
            "  df = df.apply(pd.to_numeric, errors='ignore')\n",
            "c:\\Users\\paolo\\anaconda3\\Lib\\site-packages\\eikon\\data_grid.py:255: FutureWarning: errors='ignore' is deprecated and will raise in a future version. Use to_numeric without passing `errors` and catch exceptions explicitly instead\n",
            "  df = df.apply(pd.to_numeric, errors='ignore')\n",
            "c:\\Users\\paolo\\anaconda3\\Lib\\site-packages\\pandas\\core\\dtypes\\cast.py:1057: RuntimeWarning: invalid value encountered in cast\n",
            "  if (arr.astype(int) == arr).all():\n",
            "c:\\Users\\paolo\\anaconda3\\Lib\\site-packages\\pandas\\core\\dtypes\\cast.py:1081: RuntimeWarning: invalid value encountered in cast\n",
            "  if (arr.astype(int) == arr).all():\n"
          ]
        }
      ],
      "source": [
        "data = get_financial_data(rics_list, fields,\n",
        "                          start_date, end_date)"
      ]
    },
    {
      "cell_type": "code",
      "execution_count": 69,
      "metadata": {},
      "outputs": [
        {
          "name": "stdout",
          "output_type": "stream",
          "text": [
            "                      Close Price  \\\n",
            "Date                                \n",
            "2024-12-30T00:00:00Z        252.2   \n",
            "2024-12-27T00:00:00Z       255.59   \n",
            "2024-12-26T00:00:00Z       259.02   \n",
            "2024-12-24T00:00:00Z        258.2   \n",
            "2024-12-23T00:00:00Z       255.27   \n",
            "\n",
            "                      Shares used to calculate Diluted EPS - Total  \\\n",
            "Date                                                                 \n",
            "2024-12-30T00:00:00Z                                   15408095000   \n",
            "2024-12-27T00:00:00Z                                   15408095000   \n",
            "2024-12-26T00:00:00Z                                   15408095000   \n",
            "2024-12-24T00:00:00Z                                   15408095000   \n",
            "2024-12-23T00:00:00Z                                   15408095000   \n",
            "\n",
            "                      Market Capitalization    Debt - Total     RIC  \n",
            "Date                                                                 \n",
            "2024-12-30T00:00:00Z        3463350367230.0  107525000000.0  AAPL.O  \n",
            "2024-12-27T00:00:00Z        3463350367230.0  107525000000.0  AAPL.O  \n",
            "2024-12-26T00:00:00Z        3463350367230.0  107525000000.0  AAPL.O  \n",
            "2024-12-24T00:00:00Z        3463350367230.0  107525000000.0  AAPL.O  \n",
            "2024-12-23T00:00:00Z        3463350367230.0  107525000000.0  AAPL.O  \n"
          ]
        }
      ],
      "source": [
        "#Checks on single stocks\n",
        "print(data.loc['AAPL.O'].head())"
      ]
    },
    {
      "cell_type": "code",
      "execution_count": null,
      "metadata": {},
      "outputs": [],
      "source": [
        "#Plot of outstanding shares \n",
        "import matplotlib.pyplot as plt\n",
        "\n",
        "plt.figure()\n",
        "\n",
        "plt.title('Number of shares through time')\n",
        "\n",
        "plt.plot(data.loc['AAPL.O']['Shares used to calculate Diluted EPS - Total'])\n",
        "\n",
        "plt.show()\n"
      ]
    },
    {
      "cell_type": "markdown",
      "metadata": {},
      "source": [
        "### Preparing the functions for the iterative procedure to compute asset values"
      ]
    },
    {
      "cell_type": "code",
      "execution_count": 118,
      "metadata": {},
      "outputs": [
        {
          "data": {
            "text/plain": [
              "'\\n# Example Usage\\nS_t = np.array([50e8, 60e8, 70e8])  # Observed equity prices\\nB = np.array([100e6, 120e6, 150e6])  # Face values of debt\\nr = np.array([0.05, 0.04, 0.03])  # Risk-free rates\\nT = 1.0  # Maturity in years (constant)\\nt = 0     # Current time\\nsigma_V = 0.2  # Asset volatility (constant)\\n\\nV_t_estimated = invert_black_scholes(S_t, B, r, T, sigma_V)\\nprint(f\"Estimated Asset Values (V_t): {V_t_estimated}\")\\n'"
            ]
          },
          "execution_count": 118,
          "metadata": {},
          "output_type": "execute_result"
        }
      ],
      "source": [
        "import numpy as np\n",
        "from scipy.stats import norm\n",
        "from scipy.optimize import root_scalar\n",
        "\n",
        "def black_scholes_equation(V_t, S_t, B, r, T = 1, sigma_V = 0.1):\n",
        "    \"\"\"\n",
        "    Compute the Black-Scholes equity price difference for an array of S_t, B, and r.\n",
        "    This function is used to find the root for V_t.\n",
        "    \n",
        "    Parameters:\n",
        "    V_t : float\n",
        "        Asset value to solve for (scalar).\n",
        "    S_t, B, r : np.array\n",
        "        Arrays of equity prices, debt face values, and risk-free rates.\n",
        "    T, sigma_V : float\n",
        "        Constants: time to maturity and asset volatility.\n",
        "    t : float\n",
        "        Current time.\n",
        "\n",
        "    Returns:\n",
        "    np.array\n",
        "        Difference between the calculated equity price and observed equity price S_t.\n",
        "    \"\"\"\n",
        "    # Calculate d_t1 and d_t2 for all elements in S_t, B, and r\n",
        "    \n",
        "    d_t1 = (np.log(V_t / B) + (r + 0.5 * sigma_V**2) * T) / (sigma_V * np.sqrt(T))\n",
        "    d_t2 = d_t1 - sigma_V * np.sqrt(T)\n",
        "    \n",
        "    # Black-Scholes formula for equity price\n",
        "    equity_price = V_t * norm.cdf(d_t1) - B * np.exp(-r * T) * norm.cdf(d_t2)\n",
        "    \n",
        "    # Return the difference from observed S_t\n",
        "    return equity_price - S_t\n",
        "\n",
        "def invert_black_scholes(S_t, B, r, T=1, sigma_V = 0.1, initial_guess=100):\n",
        "    \"\"\"\n",
        "    Invert the Black-Scholes formula to estimate V_t for arrays of S_t, B, and r.\n",
        "    \n",
        "    Parameters:\n",
        "    S_t, B, r : np.array\n",
        "        Arrays of observed equity prices, debt face values, and risk-free rates.\n",
        "    T, sigma_V : float\n",
        "        Constants: time to maturity and asset volatility.\n",
        "    t : float\n",
        "        Current time.\n",
        "    initial_guess : float\n",
        "        Initial guess for V_t.\n",
        "\n",
        "    Returns:\n",
        "    np.array\n",
        "        Estimated asset values (V_t) for each input set.\n",
        "    \"\"\"\n",
        "    # Vectorized root finding for each element in S_t, B, and r\n",
        "    V_t_estimates = []\n",
        "    for S_t_i, B_i, r_i in zip(S_t, B, r):\n",
        "        # Initial bracket\n",
        "        a, b = 1, 400\n",
        "        f_a = black_scholes_equation(a, S_t_i, B_i, r_i, T, sigma_V)\n",
        "        f_b = black_scholes_equation(b, S_t_i, B_i, r_i, T, sigma_V)\n",
        "        \n",
        "        # Dynamically adjust the bracket until signs are opposite\n",
        "        while f_a * f_b > 0:\n",
        "            a /= 2\n",
        "            b *= 2\n",
        "            f_a = black_scholes_equation(a, S_t_i, B_i, r_i, T, sigma_V)\n",
        "            f_b = black_scholes_equation(b, S_t_i, B_i, r_i, T, sigma_V)\n",
        "        \n",
        "        # Solve for V_t using root_scalar\n",
        "        solution = root_scalar(\n",
        "            black_scholes_equation,\n",
        "            args=(S_t_i, B_i, r_i, T, sigma_V),\n",
        "            bracket=[a, b],\n",
        "            method='brentq'\n",
        "        )\n",
        "        V_t_estimates.append(solution.root)\n",
        "    \n",
        "    return np.array(V_t_estimates)\n",
        "\"\"\"\n",
        "# Example Usage\n",
        "S_t = np.array([50e8, 60e8, 70e8])  # Observed equity prices\n",
        "B = np.array([100e6, 120e6, 150e6])  # Face values of debt\n",
        "r = np.array([0.05, 0.04, 0.03])  # Risk-free rates\n",
        "T = 1.0  # Maturity in years (constant)\n",
        "t = 0     # Current time\n",
        "sigma_V = 0.2  # Asset volatility (constant)\n",
        "\n",
        "V_t_estimated = invert_black_scholes(S_t, B, r, T, sigma_V)\n",
        "print(f\"Estimated Asset Values (V_t): {V_t_estimated}\")\n",
        "\"\"\""
      ]
    },
    {
      "cell_type": "code",
      "execution_count": 119,
      "metadata": {},
      "outputs": [
        {
          "name": "stdout",
          "output_type": "stream",
          "text": [
            "[3.99026871e+12 4.04250216e+12 4.09535192e+12 ... 8.22065015e+11\n",
            " 9.00716729e+11 8.99816710e+11]\n"
          ]
        }
      ],
      "source": [
        "instrument = 'AAPL.O'\n",
        "\n",
        "prices = data.loc[instrument]['Close Price']\n",
        "debt = data.loc[instrument]['Debt - Total'] / 10e9\n",
        "r = [0.03] * prices.shape[0] \n",
        "r = np.array(r)\n",
        "log_returns = np.log(prices / prices.shift(1)).dropna()\n",
        "volatility_guess = log_returns.std()\n",
        "\n",
        "#print(volatility_guess)\n",
        "#print(prices)\n",
        "equity_values = (data.loc[instrument]['Shares used to calculate Diluted EPS - Total'] * data.loc[instrument]['Close Price']) / 10e9\n",
        "\n",
        "value_guess = invert_black_scholes(equity_values, debt, r, sigma_V=volatility_guess)\n",
        "print(value_guess * 10e9)"
      ]
    },
    {
      "cell_type": "code",
      "execution_count": 111,
      "metadata": {},
      "outputs": [
        {
          "data": {
            "text/plain": [
              "Date\n",
              "2024-12-30T00:00:00Z    388.592156\n",
              "2024-12-27T00:00:00Z      393.8155\n",
              "2024-12-26T00:00:00Z    399.100477\n",
              "2024-12-24T00:00:00Z    397.837013\n",
              "2024-12-23T00:00:00Z    393.322441\n",
              "                           ...    \n",
              "2019-01-07T00:00:00Z     73.966612\n",
              "2019-01-04T00:00:00Z     74.131616\n",
              "2019-01-03T00:00:00Z      71.09655\n",
              "2019-01-02T00:00:00Z     78.961721\n",
              "2018-12-31T00:00:00Z     78.871719\n",
              "Length: 1510, dtype: Float64"
            ]
          },
          "execution_count": 111,
          "metadata": {},
          "output_type": "execute_result"
        }
      ],
      "source": [
        "equity_values"
      ]
    },
    {
      "cell_type": "markdown",
      "metadata": {},
      "source": [
        "# Function calling"
      ]
    },
    {
      "cell_type": "code",
      "execution_count": null,
      "metadata": {},
      "outputs": [],
      "source": [
        "\"\"\"\n",
        "V = Total company value\n",
        "K = Liability (strike price)\n",
        "r = interest rate\n",
        "sigma = standard deviation\n",
        "T = Maturity\n",
        "t = time (a volte non è nemmeno messo ho visto in alcune formule ma nel nostro libro c'è)\n",
        "\n",
        "\n",
        "V = St+Bt\n",
        "\n",
        "ST può essere vista come una call option ST = (VT-BT)+\n",
        "BT come una Put option in pratica BT = B - (B-VT)+\n",
        "\n",
        "\"\"\"\n",
        "\n",
        "\"\"\"'''''''''''''''''''''''''''''''''''''''''''''''''''''''''''''''\n",
        "FUNCTION TO COMPUTE THE EQUITY VALUE BASED ON MERTON\n",
        "\"\"\"''''''''''''''''''''''''''''''''''''''''''''''''''''''''''''''\n",
        "\n",
        "def merton_equity(V,K,r,sigma,T,t):\n",
        "\n",
        "    d1 = (np.log(V/K) + (r + 0.5*sigma**2)*(T-t))/ (sigma * np.sqrt(T-t))\n",
        "    d2 = d1 - sigma*np.sqrt(T-t)\n",
        "    St = V*norm.cdf(d1) - K*np.exp(-r*(T-t))*norm.cdf(d2)\n",
        "\n",
        "    return St\n",
        "\n",
        "\"\"\"'''''''''''''''''''''''''''''''''''''''''''''''''''''''''''''\n",
        "FUNCTION TO COMPUTE THE DEBT VALUE BASED ON MERTON\n",
        "\"\"\"''''''''''''''''''''''''''''''''''''''''''''''''''''''''''''''\n",
        "\n",
        "def merton_debt(V,K,r,sigma,T,t):\n",
        "\n",
        "    d1 = (np.log(V/K) + (r + 0.5*sigma**2)*(T-t))/ (sigma * np.sqrt(T-t))\n",
        "    d2 = d1 - sigma*np.sqrt(T-t)\n",
        "    Bt = K*np.exp(-r*(T-t))*norm.cdf(d2) + V*(1-norm.cdf(d1))\n",
        "    \n",
        "    return Bt\n",
        "#%% Inputs\n",
        "r = 0.1        # Risk-free rate (10%)\n",
        "sigma = 0.2    # Asset volatility (10%)\n",
        "T = 1          # Maturity time (1 year)\n",
        "t = 0          # Current time (0 years)\n",
        "\n",
        "# Compute Equity and Debt\n",
        "#equity_value = merton_equity(V, K, r, sigma, T, t)\n",
        "#debt_value = merton_debt(V, K, r, sigma, T, t)\n",
        "\n",
        "# Validation: Sum of Equity and Debt should equal Total Assets\n",
        "#validation = equity_value + debt_value\n",
        "\n",
        "# Output Results\n",
        "#print(f\"Equity Value (S) is: {equity_value:.6f}\")\n",
        "#print(f\"Debt Value (B) is: {debt_value:.6f}\")\n",
        "#print(f\"Difference between (S+B) and V: {validation:.6f} vs {V}\")\n",
        "#%%\n",
        "data['Equity'] = data.apply(lambda row: merton_equity(row['Common Equity - Total'], row['Debt - Total'], r, sigma, T, t), axis=1)\n",
        "data['Debt'] = data.apply(lambda row: merton_debt(row['Common Equity - Total'], row['Debt - Total'], r, sigma, T, t), axis=1)"
      ]
    }
  ],
  "metadata": {
    "colab": {
      "authorship_tag": "ABX9TyML4EGjqSwJLboWOStafFQq",
      "include_colab_link": true,
      "provenance": []
    },
    "kernelspec": {
      "display_name": "base",
      "language": "python",
      "name": "python3"
    },
    "language_info": {
      "codemirror_mode": {
        "name": "ipython",
        "version": 3
      },
      "file_extension": ".py",
      "mimetype": "text/x-python",
      "name": "python",
      "nbconvert_exporter": "python",
      "pygments_lexer": "ipython3",
      "version": "3.11.7"
    }
  },
  "nbformat": 4,
  "nbformat_minor": 0
}
